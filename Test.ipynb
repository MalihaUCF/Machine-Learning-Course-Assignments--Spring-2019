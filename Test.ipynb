{
  "nbformat": 4,
  "nbformat_minor": 0,
  "metadata": {
    "colab": {
      "name": "Test",
      "version": "0.3.2",
      "provenance": [],
      "include_colab_link": true
    },
    "kernelspec": {
      "name": "python3",
      "display_name": "Python 3"
    }
  },
  "cells": [
    {
      "cell_type": "markdown",
      "metadata": {
        "id": "view-in-github",
        "colab_type": "text"
      },
      "source": [
        "<a href=\"https://colab.research.google.com/github/MalihaUCF/Machine-Learning-Course-Assignments--Spring-2019/blob/master/Test.ipynb\" target=\"_parent\"><img src=\"https://colab.research.google.com/assets/colab-badge.svg\" alt=\"Open In Colab\"/></a>"
      ]
    },
    {
      "metadata": {
        "id": "Av3_oAHYzkMg",
        "colab_type": "code",
        "colab": {}
      },
      "cell_type": "code",
      "source": [
        "import numpy as np\n",
        "import matplotlib.pyplot as plt\n",
        "%matplotlib inline\n",
        "\n",
        "left = 0.0\n",
        "right = 4.0\n",
        "samples = np.array([0.0])"
      ],
      "execution_count": 0,
      "outputs": []
    },
    {
      "metadata": {
        "id": "Hh9DH_FG1Dul",
        "colab_type": "code",
        "colab": {}
      },
      "cell_type": "code",
      "source": [
        "def loss(x):\n",
        "    return 2.0 * (x - 2.0)**2\n",
        "\n",
        "def loss_gradient(x):\n",
        "    return 4.0 * (x - 2.0)"
      ],
      "execution_count": 0,
      "outputs": []
    },
    {
      "metadata": {
        "id": "Idu7jSIK3Rxc",
        "colab_type": "code",
        "colab": {}
      },
      "cell_type": "code",
      "source": [
        "def plot(learning_rate):\n",
        "    global samples\n",
        "    global left\n",
        "    global right\n",
        "    x = np.linspace(left, right)\n",
        "    fig, ax = plt.subplots(1, 1, figsize=(8, 6))\n",
        "    ax.grid(True)\n",
        "    ax.plot(x, loss(x))\n",
        "    colors = np.full(samples.shape, 0.5)\n",
        "    ax.scatter(samples, loss(samples))\n",
        "    last_sample = samples[-1]\n",
        "    new_sample = last_sample - float(learning_rate) * loss_gradient(last_sample)\n",
        "    samples = np.append(samples, new_sample)\n",
        "    left = min(left, new_sample)\n",
        "    right = max(right, new_sample)"
      ],
      "execution_count": 0,
      "outputs": []
    }
  ]
}