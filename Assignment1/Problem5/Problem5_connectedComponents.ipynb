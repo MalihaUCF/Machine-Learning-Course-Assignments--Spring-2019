{
  "nbformat": 4,
  "nbformat_minor": 0,
  "metadata": {
    "colab": {
      "name": "Problem5_connectedComponents.ipynb",
      "version": "0.3.2",
      "provenance": [],
      "collapsed_sections": [],
      "include_colab_link": true
    },
    "kernelspec": {
      "name": "python3",
      "display_name": "Python 3"
    }
  },
  "cells": [
    {
      "cell_type": "markdown",
      "metadata": {
        "id": "view-in-github",
        "colab_type": "text"
      },
      "source": [
        "<a href=\"https://colab.research.google.com/github/MalihaUCF/Machine-Learning-Course-Assignments--Spring-2019/blob/master/Assignment1/Problem5/Problem5_connectedComponents.ipynb\" target=\"_parent\"><img src=\"https://colab.research.google.com/assets/colab-badge.svg\" alt=\"Open In Colab\"/></a>"
      ]
    },
    {
      "metadata": {
        "id": "8MZ2Dn7zFZiC",
        "colab_type": "code",
        "outputId": "63920bc7-fef8-47d0-b97d-d364c8081ed1",
        "colab": {
          "base_uri": "https://localhost:8080/",
          "height": 34
        }
      },
      "cell_type": "code",
      "source": [
        "# Python Program for union-find algorithm to detect cycle in a undirected graph \n",
        "# we have one egde for any two vertex i.e 1-2 is either 1-2 or 2-1 but not both \n",
        "   \n",
        "from collections import defaultdict \n",
        "   \n",
        "#This class represents a undirected graph using adjacency list representation \n",
        "class Graph: \n",
        "   \n",
        "    def __init__(self,vertices): \n",
        "        self.V= vertices #No. of vertices \n",
        "        self.graph = defaultdict(list) # default dictionary to store graph \n",
        "   \n",
        "  \n",
        "    # function to add an edge to graph \n",
        "    def addEdge(self,u,v): \n",
        "        self.graph[u].append(v) \n",
        "   \n",
        "    # A utility function to find the subset of an element i \n",
        "    def find_parent(self, parent,i): \n",
        "        if parent[i] == -1: \n",
        "            return i \n",
        "        if parent[i]!= -1: \n",
        "             return self.find_parent(parent,parent[i]) \n",
        "  \n",
        "    # A utility function to do union of two subsets \n",
        "    def union(self,parent,x,y): \n",
        "        x_set = self.find_parent(parent, x) \n",
        "        y_set = self.find_parent(parent, y) \n",
        "        parent[x_set] = y_set \n",
        "  \n",
        "   \n",
        "   \n",
        "    # The main function to check whether a given graph \n",
        "    # contains cycle or not \n",
        "    def isCyclic(self): \n",
        "          \n",
        "        # Allocate memory for creating V subsets and \n",
        "        # Initialize all subsets as single element sets \n",
        "        parent = [-1]*(self.V) \n",
        "  \n",
        "        # Iterate through all edges of graph, find subset of both \n",
        "        # vertices of every edge, if both subsets are same, then \n",
        "        # there is cycle in graph. \n",
        "        for i in self.graph: \n",
        "            for j in self.graph[i]: \n",
        "                x = self.find_parent(parent, i)  \n",
        "                y = self.find_parent(parent, j) \n",
        "                if x == y: \n",
        "                    return True\n",
        "                self.union(parent,x,y) \n",
        "  \n",
        "  \n",
        "# Create a graph given in the above diagram \n",
        "g = Graph(3) \n",
        "g.addEdge(0, 1) \n",
        "g.addEdge(1, 2) \n",
        "g.addEdge(2, 0) \n",
        "  \n",
        "if g.isCyclic(): \n",
        "    print (\"Graph contains cycle\")\n",
        "else : \n",
        "    print (\"Graph does not contain cycle \")\n",
        "\n"
      ],
      "execution_count": 0,
      "outputs": [
        {
          "output_type": "stream",
          "text": [
            "Graph contains cycle\n"
          ],
          "name": "stdout"
        }
      ]
    },
    {
      "metadata": {
        "id": "54HMfbNZPbbW",
        "colab_type": "code",
        "outputId": "f77b942b-2e7e-4ba8-8372-0eecaf181692",
        "colab": {
          "base_uri": "https://localhost:8080/",
          "height": 119
        }
      },
      "cell_type": "code",
      "source": [
        "\n",
        "# Extending my solution to problem 4\n",
        "# Loading MNIST and converting to binary images \n",
        "\n",
        "\n",
        "from keras.datasets import mnist\n",
        "from keras.layers import Dense\n",
        "from keras import models\n",
        "import numpy as np\n",
        "\n",
        "\n",
        "(train_images,train_labels),(test_images,test_labels)=mnist.load_data()  \n",
        "\n",
        "print('Training Data Shape',train_images.shape)\n",
        "print('Test Data Shape',test_images.shape)\n",
        "print('The train and test labels look like this,' ,train_labels.shape,test_labels.shape)"
      ],
      "execution_count": 14,
      "outputs": [
        {
          "output_type": "stream",
          "text": [
            "Using TensorFlow backend.\n"
          ],
          "name": "stderr"
        },
        {
          "output_type": "stream",
          "text": [
            "Downloading data from https://s3.amazonaws.com/img-datasets/mnist.npz\n",
            "11493376/11490434 [==============================] - 1s 0us/step\n",
            "Training Data Shape (60000, 28, 28)\n",
            "Test Data Shape (10000, 28, 28)\n",
            "The train and test labels look like this, (60000,) (10000,)\n"
          ],
          "name": "stdout"
        }
      ]
    },
    {
      "metadata": {
        "id": "wOfsnRxXQpmy",
        "colab_type": "code",
        "outputId": "ae16b7a2-b032-40e0-ef18-33b76347e4c1",
        "colab": {
          "base_uri": "https://localhost:8080/",
          "height": 102
        }
      },
      "cell_type": "code",
      "source": [
        "classes = np.unique(train_labels)\n",
        "number_of_Classes = len(classes)\n",
        "print('Total number of Classes : ', number_of_Classes)\n",
        "print('Classes are : ', classes)\n",
        "\n",
        "\n",
        "\n",
        "print(train_images[0].shape)\n",
        "print(train_labels[0])\n",
        "\n",
        "train_images_binary=np.empty(shape=(train_images.shape))\n",
        "print(train_images_binary.shape)\n",
        "\n",
        "for x in range(0,60000):\n",
        "  image_array=train_images[x]\n",
        "  #print(image_array)\n",
        "  binary=np.where(image_array > 0,1,0)\n",
        "  #print(binary)\n",
        "  \n",
        "  train_images_binary[x]=binary\n",
        "  \n",
        "#print(train_labels[59999]) \n",
        "#print(train_images[59999]) \n",
        "#print(train_images_binary[59999])\n",
        "\n",
        "  \n",
        "  \n",
        "  "
      ],
      "execution_count": 15,
      "outputs": [
        {
          "output_type": "stream",
          "text": [
            "Total number of Classes :  10\n",
            "Classes are :  [0 1 2 3 4 5 6 7 8 9]\n",
            "(28, 28)\n",
            "5\n",
            "(60000, 28, 28)\n"
          ],
          "name": "stdout"
        }
      ]
    },
    {
      "metadata": {
        "id": "6i7iMzK_koa7",
        "colab_type": "code",
        "colab": {
          "base_uri": "https://localhost:8080/",
          "height": 51
        },
        "outputId": "211c0b2d-5125-4c63-e005-47a4501bb401"
      },
      "cell_type": "code",
      "source": [
        "\n",
        "white_region_dict={0:2, 1:1,3:1,4:1,5:1,6:2,7:1,8:3,9:2}\n",
        "\n",
        "#print(white_region_dict[8])\n",
        "\n",
        "\n",
        "\n",
        "image=train_images[0]\n",
        "image_label=train_labels[0]\n",
        "print(image_label)\n",
        "extra_feature=white_region_dict[image_label]\n",
        "print(extra_feature)"
      ],
      "execution_count": 29,
      "outputs": [
        {
          "output_type": "stream",
          "text": [
            "5\n",
            "1\n"
          ],
          "name": "stdout"
        }
      ]
    },
    {
      "metadata": {
        "id": "NOnC9ZbqPcdx",
        "colab_type": "code",
        "colab": {}
      },
      "cell_type": "code",
      "source": [
        ""
      ],
      "execution_count": 0,
      "outputs": []
    }
  ]
}