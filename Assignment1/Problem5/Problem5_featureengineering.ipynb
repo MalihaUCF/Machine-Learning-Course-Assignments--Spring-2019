{
  "nbformat": 4,
  "nbformat_minor": 0,
  "metadata": {
    "colab": {
      "name": "Problem5_featureengineering.ipynb",
      "version": "0.3.2",
      "provenance": [],
      "collapsed_sections": [],
      "include_colab_link": true
    },
    "kernelspec": {
      "name": "python3",
      "display_name": "Python 3"
    }
  },
  "cells": [
    {
      "cell_type": "markdown",
      "metadata": {
        "id": "view-in-github",
        "colab_type": "text"
      },
      "source": [
        "<a href=\"https://colab.research.google.com/github/MalihaUCF/Machine-Learning-Course-Assignments--Spring-2019/blob/master/Assignment1/Problem5/Problem5_featureengineering.ipynb\" target=\"_parent\"><img src=\"https://colab.research.google.com/assets/colab-badge.svg\" alt=\"Open In Colab\"/></a>"
      ]
    },
    {
      "metadata": {
        "id": "zRoZqFENJdoq",
        "colab_type": "code",
        "colab": {
          "base_uri": "https://localhost:8080/",
          "height": 176
        },
        "outputId": "6186c9a1-a1e5-45a2-f65c-6dc6036924a0"
      },
      "cell_type": "code",
      "source": [
        "\n",
        "# Extending my solution to problem 4\n",
        "# Loading MNIST and converting to binary images \n",
        "\n",
        "from keras.datasets import mnist\n",
        "from keras import layers\n",
        "from keras import models\n",
        "import numpy as np\n",
        "from keras.utils import to_categorical\n",
        "\n",
        "\n",
        "(train_images,train_labels),(test_images,test_labels)=mnist.load_data()  \n",
        "\n",
        "print('Training Data Shape',train_images.shape)\n",
        "print('Test Data Shape',test_images.shape)\n",
        "print('The train and test labels look like this,' ,train_labels.shape,test_labels.shape)\n",
        "\n",
        "train_images = train_images.reshape(60000, 28*28) \n",
        "test_images = test_images.reshape(10000, 28*28) \n",
        "print(train_images.shape)\n",
        "print(test_images.shape)\n",
        "#train_images = train_images.astype('float32') \n",
        "#test_images = test_images.astype('float32') \n",
        "\n",
        "def add_feature(train_images):\n",
        "  \n",
        "  train_images_new=np.empty(shape=(train_images.shape[0],785))\n",
        "  print(train_images_new.shape)\n",
        "  white_region_dict={0:2, 1:1,2:1,3:1,4:1,5:1,6:2,7:1,8:3,9:2}\n",
        "  \n",
        "  for index in range(0,train_images.shape[0]):\n",
        "    image=train_images[index]\n",
        "    #print(image)\n",
        "    #print(image.shape)\n",
        "    image_label=train_labels[index]\n",
        "    #print(image_label)\n",
        "    extra_feature=white_region_dict[image_label]\n",
        "    #print(extra_feature)\n",
        "    image_new=np.empty(shape=785)\n",
        "    \n",
        "    for x in range(0,784):\n",
        "      image_new[x]=image[x]\n",
        "\n",
        "    image_new[784]=extra_feature\n",
        "    #print(image_new)\n",
        "    #print(image_new.shape)\n",
        "    train_images_new[index]=image_new\n",
        "    \n",
        "  return train_images_new\n",
        "    \n",
        "  \n",
        "  \n",
        "  \n",
        "train_images_new1=add_feature(train_images) \n",
        "print(train_images_new1.shape)\n",
        "print(train_images_new1[59000].shape)\n",
        "\n",
        "\n",
        "test_images_new1=add_feature(test_images) \n",
        "print(test_images_new1.shape)\n",
        "print(test_images_new1[1000].shape)"
      ],
      "execution_count": 26,
      "outputs": [
        {
          "output_type": "stream",
          "text": [
            "Training Data Shape (60000, 28, 28)\n",
            "Test Data Shape (10000, 28, 28)\n",
            "The train and test labels look like this, (60000,) (10000,)\n",
            "(60000, 785)\n",
            "(60000, 785)\n",
            "(785,)\n",
            "(10000, 785)\n",
            "(10000, 785)\n",
            "(785,)\n"
          ],
          "name": "stdout"
        }
      ]
    },
    {
      "metadata": {
        "id": "Z7WzKSQBLH3Y",
        "colab_type": "code",
        "colab": {
          "base_uri": "https://localhost:8080/",
          "height": 212
        },
        "outputId": "63052c76-316d-412b-feb6-4909d20fe41e"
      },
      "cell_type": "code",
      "source": [
        "train_images_new1 /= 255   \n",
        "test_images_new1/= 255\n",
        "\n",
        "\n",
        "\n",
        "#Defining the Single layered Network\n",
        "\n",
        "model=models.Sequential()\n",
        "model.add(layers.Dense((28*28),activation='relu',input_shape=((28*28)+1,)))\n",
        "model.add(layers.Dense(10,activation='softmax'))\n",
        "model.summary()\n"
      ],
      "execution_count": 27,
      "outputs": [
        {
          "output_type": "stream",
          "text": [
            "_________________________________________________________________\n",
            "Layer (type)                 Output Shape              Param #   \n",
            "=================================================================\n",
            "dense_13 (Dense)             (None, 784)               616224    \n",
            "_________________________________________________________________\n",
            "dense_14 (Dense)             (None, 10)                7850      \n",
            "=================================================================\n",
            "Total params: 624,074\n",
            "Trainable params: 624,074\n",
            "Non-trainable params: 0\n",
            "_________________________________________________________________\n"
          ],
          "name": "stdout"
        }
      ]
    },
    {
      "metadata": {
        "id": "VlFPKJvXLJ_f",
        "colab_type": "code",
        "colab": {
          "base_uri": "https://localhost:8080/",
          "height": 763
        },
        "outputId": "29127e1e-c7d7-4ce9-a7c4-2eb2ff7bfff7"
      },
      "cell_type": "code",
      "source": [
        "train_labels = to_categorical(train_labels,10)\n",
        "test_labels = to_categorical(test_labels,10)\n",
        "\n",
        "\n",
        "\n",
        "#Compiling the network\n",
        "\n",
        "epochs=20\n",
        "batch_size=128\n",
        "model.compile(optimizer='SGD',loss='categorical_crossentropy',metrics=['accuracy'])\n",
        "history=model.fit(train_images_new1, train_labels, epochs=epochs,batch_size=batch_size, validation_data=(test_images_new1, test_labels))"
      ],
      "execution_count": 28,
      "outputs": [
        {
          "output_type": "stream",
          "text": [
            "Train on 60000 samples, validate on 10000 samples\n",
            "Epoch 1/20\n",
            "60000/60000 [==============================] - 5s 86us/step - loss: 1.0824 - acc: 0.7703 - val_loss: 0.5823 - val_acc: 0.8739\n",
            "Epoch 2/20\n",
            "60000/60000 [==============================] - 5s 81us/step - loss: 0.5106 - acc: 0.8769 - val_loss: 0.4227 - val_acc: 0.8936\n",
            "Epoch 3/20\n",
            "60000/60000 [==============================] - 5s 80us/step - loss: 0.4122 - acc: 0.8928 - val_loss: 0.3642 - val_acc: 0.9038\n",
            "Epoch 4/20\n",
            "60000/60000 [==============================] - 5s 80us/step - loss: 0.3673 - acc: 0.9012 - val_loss: 0.3331 - val_acc: 0.9098\n",
            "Epoch 5/20\n",
            "60000/60000 [==============================] - 5s 81us/step - loss: 0.3397 - acc: 0.9070 - val_loss: 0.3115 - val_acc: 0.9155\n",
            "Epoch 6/20\n",
            "60000/60000 [==============================] - 5s 84us/step - loss: 0.3198 - acc: 0.9119 - val_loss: 0.2962 - val_acc: 0.9190\n",
            "Epoch 7/20\n",
            "60000/60000 [==============================] - 5s 83us/step - loss: 0.3042 - acc: 0.9158 - val_loss: 0.2838 - val_acc: 0.9223\n",
            "Epoch 8/20\n",
            "60000/60000 [==============================] - 5s 82us/step - loss: 0.2913 - acc: 0.9194 - val_loss: 0.2729 - val_acc: 0.9258\n",
            "Epoch 9/20\n",
            "60000/60000 [==============================] - 5s 84us/step - loss: 0.2799 - acc: 0.9222 - val_loss: 0.2635 - val_acc: 0.9280\n",
            "Epoch 10/20\n",
            "60000/60000 [==============================] - 5s 84us/step - loss: 0.2701 - acc: 0.9254 - val_loss: 0.2554 - val_acc: 0.9293\n",
            "Epoch 11/20\n",
            "60000/60000 [==============================] - 5s 84us/step - loss: 0.2613 - acc: 0.9279 - val_loss: 0.2489 - val_acc: 0.9299\n",
            "Epoch 12/20\n",
            "60000/60000 [==============================] - 5s 86us/step - loss: 0.2531 - acc: 0.9302 - val_loss: 0.2406 - val_acc: 0.9330\n",
            "Epoch 13/20\n",
            "60000/60000 [==============================] - 5s 86us/step - loss: 0.2457 - acc: 0.9326 - val_loss: 0.2347 - val_acc: 0.9341\n",
            "Epoch 14/20\n",
            "60000/60000 [==============================] - 5s 89us/step - loss: 0.2387 - acc: 0.9343 - val_loss: 0.2296 - val_acc: 0.9362\n",
            "Epoch 15/20\n",
            "60000/60000 [==============================] - 5s 91us/step - loss: 0.2325 - acc: 0.9359 - val_loss: 0.2235 - val_acc: 0.9366\n",
            "Epoch 16/20\n",
            "60000/60000 [==============================] - 5s 84us/step - loss: 0.2263 - acc: 0.9377 - val_loss: 0.2191 - val_acc: 0.9377\n",
            "Epoch 17/20\n",
            "60000/60000 [==============================] - 5s 84us/step - loss: 0.2207 - acc: 0.9393 - val_loss: 0.2134 - val_acc: 0.9400\n",
            "Epoch 18/20\n",
            "60000/60000 [==============================] - 5s 85us/step - loss: 0.2153 - acc: 0.9402 - val_loss: 0.2091 - val_acc: 0.9410\n",
            "Epoch 19/20\n",
            "60000/60000 [==============================] - 5s 83us/step - loss: 0.2103 - acc: 0.9417 - val_loss: 0.2056 - val_acc: 0.9421\n",
            "Epoch 20/20\n",
            "60000/60000 [==============================] - 5s 84us/step - loss: 0.2055 - acc: 0.9432 - val_loss: 0.2005 - val_acc: 0.9439\n"
          ],
          "name": "stdout"
        }
      ]
    },
    {
      "metadata": {
        "id": "ScM76WmnQ-gJ",
        "colab_type": "code",
        "colab": {
          "base_uri": "https://localhost:8080/",
          "height": 85
        },
        "outputId": "3b9026eb-f576-4f3a-e9a1-fe56aa4147c9"
      },
      "cell_type": "code",
      "source": [
        "from keras.datasets import mnist\n",
        "from keras import layers\n",
        "from keras import models\n",
        "import numpy as np\n",
        "from keras.utils import to_categorical\n",
        "\n",
        "\n",
        "(train_images,train_labels),(test_images,test_labels)=mnist.load_data()  \n",
        "\n",
        "print('Training Data Shape',train_images.shape)\n",
        "print('Test Data Shape',test_images.shape)\n",
        "print('The train and test labels look like this,' ,train_labels.shape,test_labels.shape)\n",
        "\n"
      ],
      "execution_count": 1,
      "outputs": [
        {
          "output_type": "stream",
          "text": [
            "Using TensorFlow backend.\n"
          ],
          "name": "stderr"
        },
        {
          "output_type": "stream",
          "text": [
            "Training Data Shape (60000, 28, 28)\n",
            "Test Data Shape (10000, 28, 28)\n",
            "The train and test labels look like this, (60000,) (10000,)\n"
          ],
          "name": "stdout"
        }
      ]
    },
    {
      "metadata": {
        "id": "OEDDQTcYQtmC",
        "colab_type": "code",
        "colab": {
          "base_uri": "https://localhost:8080/",
          "height": 314
        },
        "outputId": "69e07ff5-b355-4783-c375-e4b7ab753d2c"
      },
      "cell_type": "code",
      "source": [
        "train_images = train_images.reshape(60000, 28*28) \n",
        "test_images = test_images.reshape(10000, 28*28) \n",
        "print(train_images.shape)\n",
        "print(test_images.shape)\n",
        "train_images = train_images.astype('float32') \n",
        "test_images = test_images.astype('float32') \n",
        "\n",
        "train_images/=255\n",
        "test_images/=255\n",
        "\n",
        "\n",
        "#Defining the Single layered Network\n",
        "\n",
        "network=models.Sequential()\n",
        "network.add(layers.Dense((28*28),activation='relu',input_shape=((28*28),)))\n",
        "network.add(layers.Dense(10,activation='softmax'))\n",
        "network.summary()\n",
        "\n"
      ],
      "execution_count": 2,
      "outputs": [
        {
          "output_type": "stream",
          "text": [
            "(60000, 784)\n",
            "(10000, 784)\n",
            "WARNING:tensorflow:From /usr/local/lib/python3.6/dist-packages/tensorflow/python/framework/op_def_library.py:263: colocate_with (from tensorflow.python.framework.ops) is deprecated and will be removed in a future version.\n",
            "Instructions for updating:\n",
            "Colocations handled automatically by placer.\n",
            "_________________________________________________________________\n",
            "Layer (type)                 Output Shape              Param #   \n",
            "=================================================================\n",
            "dense_1 (Dense)              (None, 784)               615440    \n",
            "_________________________________________________________________\n",
            "dense_2 (Dense)              (None, 10)                7850      \n",
            "=================================================================\n",
            "Total params: 623,290\n",
            "Trainable params: 623,290\n",
            "Non-trainable params: 0\n",
            "_________________________________________________________________\n"
          ],
          "name": "stdout"
        }
      ]
    },
    {
      "metadata": {
        "id": "j3dZ5FkgQ_TS",
        "colab_type": "code",
        "colab": {
          "base_uri": "https://localhost:8080/",
          "height": 1005
        },
        "outputId": "7460f886-0254-43a3-98aa-4fc699b6e470"
      },
      "cell_type": "code",
      "source": [
        "train_labels = to_categorical(train_labels,10)\n",
        "test_labels = to_categorical(test_labels,10)\n",
        "\n",
        "\n",
        "\n",
        "#Compiling the network\n",
        "\n",
        "epochs=20\n",
        "batch_size=128\n",
        "network.compile(optimizer='SGD',loss='categorical_crossentropy',metrics=['accuracy'])\n",
        "history=network.fit(train_images, train_labels, epochs=epochs,batch_size=batch_size, validation_data=(test_images, test_labels))"
      ],
      "execution_count": 3,
      "outputs": [
        {
          "output_type": "stream",
          "text": [
            "WARNING:tensorflow:From /usr/local/lib/python3.6/dist-packages/tensorflow/python/ops/math_ops.py:3066: to_int32 (from tensorflow.python.ops.math_ops) is deprecated and will be removed in a future version.\n",
            "Instructions for updating:\n",
            "Use tf.cast instead.\n",
            "Train on 60000 samples, validate on 10000 samples\n",
            "Epoch 1/20\n",
            "60000/60000 [==============================] - 5s 89us/step - loss: 1.0732 - acc: 0.7717 - val_loss: 0.5863 - val_acc: 0.8705\n",
            "Epoch 2/20\n",
            "60000/60000 [==============================] - 5s 76us/step - loss: 0.5107 - acc: 0.8763 - val_loss: 0.4255 - val_acc: 0.8928\n",
            "Epoch 3/20\n",
            "60000/60000 [==============================] - 5s 77us/step - loss: 0.4118 - acc: 0.8924 - val_loss: 0.3668 - val_acc: 0.9048\n",
            "Epoch 4/20\n",
            "60000/60000 [==============================] - 5s 78us/step - loss: 0.3666 - acc: 0.9010 - val_loss: 0.3347 - val_acc: 0.9095\n",
            "Epoch 5/20\n",
            "60000/60000 [==============================] - 5s 78us/step - loss: 0.3386 - acc: 0.9069 - val_loss: 0.3134 - val_acc: 0.9154\n",
            "Epoch 6/20\n",
            "60000/60000 [==============================] - 5s 78us/step - loss: 0.3185 - acc: 0.9122 - val_loss: 0.2963 - val_acc: 0.9187\n",
            "Epoch 7/20\n",
            "60000/60000 [==============================] - 5s 76us/step - loss: 0.3028 - acc: 0.9163 - val_loss: 0.2836 - val_acc: 0.9227\n",
            "Epoch 8/20\n",
            "60000/60000 [==============================] - 4s 75us/step - loss: 0.2898 - acc: 0.9197 - val_loss: 0.2728 - val_acc: 0.9246\n",
            "Epoch 9/20\n",
            "60000/60000 [==============================] - 5s 76us/step - loss: 0.2786 - acc: 0.9231 - val_loss: 0.2637 - val_acc: 0.9268\n",
            "Epoch 10/20\n",
            "60000/60000 [==============================] - 5s 83us/step - loss: 0.2687 - acc: 0.9254 - val_loss: 0.2549 - val_acc: 0.9297\n",
            "Epoch 11/20\n",
            "60000/60000 [==============================] - 5s 82us/step - loss: 0.2599 - acc: 0.9278 - val_loss: 0.2481 - val_acc: 0.9318\n",
            "Epoch 12/20\n",
            "60000/60000 [==============================] - 5s 77us/step - loss: 0.2520 - acc: 0.9296 - val_loss: 0.2413 - val_acc: 0.9326\n",
            "Epoch 13/20\n",
            "60000/60000 [==============================] - 5s 82us/step - loss: 0.2444 - acc: 0.9318 - val_loss: 0.2344 - val_acc: 0.9342\n",
            "Epoch 14/20\n",
            "60000/60000 [==============================] - 5s 83us/step - loss: 0.2376 - acc: 0.9342 - val_loss: 0.2286 - val_acc: 0.9352\n",
            "Epoch 15/20\n",
            "60000/60000 [==============================] - 5s 78us/step - loss: 0.2312 - acc: 0.9358 - val_loss: 0.2233 - val_acc: 0.9363\n",
            "Epoch 16/20\n",
            "60000/60000 [==============================] - 5s 78us/step - loss: 0.2253 - acc: 0.9376 - val_loss: 0.2174 - val_acc: 0.9395\n",
            "Epoch 17/20\n",
            "60000/60000 [==============================] - 5s 76us/step - loss: 0.2197 - acc: 0.9388 - val_loss: 0.2129 - val_acc: 0.9400\n",
            "Epoch 18/20\n",
            "60000/60000 [==============================] - 5s 76us/step - loss: 0.2143 - acc: 0.9408 - val_loss: 0.2086 - val_acc: 0.9420\n",
            "Epoch 19/20\n",
            "60000/60000 [==============================] - 5s 78us/step - loss: 0.2092 - acc: 0.9421 - val_loss: 0.2043 - val_acc: 0.9421\n",
            "Epoch 20/20\n",
            "60000/60000 [==============================] - 5s 77us/step - loss: 0.2046 - acc: 0.9434 - val_loss: 0.1999 - val_acc: 0.9438\n"
          ],
          "name": "stdout"
        }
      ]
    }
  ]
}