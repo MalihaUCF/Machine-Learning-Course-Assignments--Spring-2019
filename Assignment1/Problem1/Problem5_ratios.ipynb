{
  "nbformat": 4,
  "nbformat_minor": 0,
  "metadata": {
    "colab": {
      "name": "Problem5_ratios.ipynb",
      "version": "0.3.2",
      "provenance": [],
      "collapsed_sections": [],
      "include_colab_link": true
    },
    "kernelspec": {
      "name": "python3",
      "display_name": "Python 3"
    }
  },
  "cells": [
    {
      "cell_type": "markdown",
      "metadata": {
        "id": "view-in-github",
        "colab_type": "text"
      },
      "source": [
        "<a href=\"https://colab.research.google.com/github/MalihaUCF/Machine-Learning-Course-Assignments--Spring-2019/blob/master/Assignment1/Problem1/Problem5_ratios.ipynb\" target=\"_parent\"><img src=\"https://colab.research.google.com/assets/colab-badge.svg\" alt=\"Open In Colab\"/></a>"
      ]
    },
    {
      "metadata": {
        "id": "e_SJZZVtVlAS",
        "colab_type": "code",
        "outputId": "4ba77584-1a77-45ea-df7b-4f69a65861da",
        "colab": {
          "base_uri": "https://localhost:8080/",
          "height": 255
        }
      },
      "cell_type": "code",
      "source": [
        "\n",
        "# Extending my solution to problem 4\n",
        "# Loading MNIST and converting to binary images \n",
        "\n",
        "from keras.datasets import mnist\n",
        "from keras import layers\n",
        "from keras import models\n",
        "import numpy as np\n",
        "from keras.utils import to_categorical\n",
        "\n",
        "\n",
        "(train_images,train_labels),(test_images,test_labels)=mnist.load_data()  \n",
        "\n",
        "print('Training Data Shape',train_images.shape)\n",
        "print('Test Data Shape',test_images.shape)\n",
        "print('The train and test labels look like this,' ,train_labels.shape,test_labels.shape)\n",
        "\n",
        "train_images = train_images.reshape(60000, 28*28) \n",
        "test_images = test_images.reshape(10000, 28*28) \n",
        "print(train_images.shape)\n",
        "print(test_images.shape)\n",
        "#train_images = train_images.astype('float32') \n",
        "#test_images = test_images.astype('float32') \n",
        "\n",
        "\n",
        "\n",
        "#to continue\n",
        "\n",
        "def binary_images(train_images):\n",
        "  \n",
        "  print(train_images[0].shape)\n",
        "  print(train_labels[0])\n",
        "\n",
        "  train_images_binary=np.empty(shape=(train_images.shape))\n",
        "  print(train_images_binary.shape)\n",
        "\n",
        "  for x in range(0,train_images.shape[0]):\n",
        "    image_array=train_images[x]\n",
        "    #print(image_array)\n",
        "    binary=np.where(image_array > 0,1,0)\n",
        "    #print(binary)\n",
        "\n",
        "    train_images_binary[x]=binary\n",
        "    \n",
        "    \n",
        "  return train_images_binary\n",
        "\n",
        "  #print(train_labels[59999]) \n",
        "  #print(train_images[59999]) \n",
        " \n",
        "\n",
        "\n",
        "def add_feature(train_images):\n",
        "  \n",
        "  train_images_new=np.empty(shape=(train_images.shape[0],785))\n",
        "  print(train_images_new.shape)\n",
        "  white_region_dict={0:2, 1:1,2:1,3:1,4:1,5:1,6:2,7:1,8:3,9:2}\n",
        "  \n",
        "  for index in range(0,train_images.shape[0]):\n",
        "    image=train_images[index]\n",
        "    #print(image)\n",
        "    #print(image.shape)\n",
        "    image_label=train_labels[index]\n",
        "    #print(image_label)\n",
        "    extra_feature=white_region_dict[image_label]\n",
        "    #print(extra_feature)\n",
        "    image_new=np.empty(shape=785)\n",
        "    \n",
        "    for x in range(0,784):\n",
        "      image_new[x]=image[x]\n",
        "\n",
        "    image_new[784]=extra_feature\n",
        "    #print(image_new)\n",
        "    #print(image_new.shape)\n",
        "    train_images_new[index]=image_new\n",
        "    \n",
        "  return train_images_new\n",
        "    \n",
        " \n",
        "def number_BW_ratios(train_images):\n",
        "  \n",
        "  train_images_new=np.empty(shape=(train_images.shape[0],785))\n",
        "  \n",
        "  \n",
        "  for index in range(0,train_images.shape[0]):\n",
        "    image=train_images[index]\n",
        "    \n",
        "    #loop for counting black and white pixels\n",
        "    #then calculating ratios\n",
        "    white_pixels=0\n",
        "    black_pixels=0\n",
        "    #print(image.shape)\n",
        "    #print(image)\n",
        "    for pixel in range(0,784):\n",
        "      if (image[pixel]==0):\n",
        "        white_pixels+=1\n",
        "        \n",
        "      else:\n",
        "        black_pixels+=1\n",
        "    #print('White',white_pixels)   \n",
        "    ratio_BW=(white_pixels/black_pixels)#.astype('float32') \n",
        "    #print(ratio_BW)\n",
        "        \n",
        "    extra_feature=ratio_BW\n",
        "    extra_feature/=255\n",
        "    #print(extra_feature)\n",
        "    image_new=np.empty(shape=785)\n",
        "    \n",
        "    for x in range(0,784):\n",
        "      image_new[x]=image[x]\n",
        "\n",
        "    image_new[784]=extra_feature\n",
        "    #print(image_new)\n",
        "    #print(image_new.shape)\n",
        "    train_images_new[index]=image_new\n",
        "    \n",
        "  return train_images_new\n",
        "\n",
        "  \n",
        "\n",
        "\n",
        "\n",
        "train_images_binary=binary_images(train_images)  \n",
        "test_images_binary=binary_images(test_images)\n",
        "print('Binary Images',train_images_binary.shape)\n",
        "print(train_images[0][45])\n",
        "\n",
        "#another set of concatenated features with ratios\n",
        "\n",
        "train_images_new2=number_BW_ratios(train_images_binary)\n",
        "test_images_new2=number_BW_ratios(test_images_binary)\n",
        "print(train_images_new2[2].shape)\n",
        " \n",
        "  \n",
        "#here we add number of white regions\n",
        "\n",
        "#train_images_new1=add_feature(train_images) \n",
        "#print(train_images_new1.shape)\n",
        "#print(train_images_new1[59000].shape)\n",
        "\n",
        "\n",
        "#test_images_new1=add_feature(test_images) \n",
        "#print(test_images_new1.shape)\n",
        "#print(test_images_new1[1000].shape)"
      ],
      "execution_count": 26,
      "outputs": [
        {
          "output_type": "stream",
          "text": [
            "Training Data Shape (60000, 28, 28)\n",
            "Test Data Shape (10000, 28, 28)\n",
            "The train and test labels look like this, (60000,) (10000,)\n",
            "(60000, 784)\n",
            "(10000, 784)\n",
            "(784,)\n",
            "5\n",
            "(60000, 784)\n",
            "(784,)\n",
            "5\n",
            "(10000, 784)\n",
            "Binary Images (60000, 784)\n",
            "0\n",
            "(785,)\n"
          ],
          "name": "stdout"
        }
      ]
    },
    {
      "metadata": {
        "id": "B811A14ZVm5p",
        "colab_type": "code",
        "colab": {
          "base_uri": "https://localhost:8080/",
          "height": 204
        },
        "outputId": "7fd319fd-40ac-42af-e90b-50a95f5247d6"
      },
      "cell_type": "code",
      "source": [
        "#train_images_new2 /= 255   \n",
        "#test_images_new2/= 255\n",
        "\n",
        "\n",
        "\n",
        "#Defining the Single layered Network\n",
        "\n",
        "model=models.Sequential()\n",
        "model.add(layers.Dense((28*28),activation='relu',input_shape=((28*28)+1,)))\n",
        "model.add(layers.Dense(10,activation='softmax'))\n",
        "model.summary()\n"
      ],
      "execution_count": 27,
      "outputs": [
        {
          "output_type": "stream",
          "text": [
            "_________________________________________________________________\n",
            "Layer (type)                 Output Shape              Param #   \n",
            "=================================================================\n",
            "dense_13 (Dense)             (None, 784)               616224    \n",
            "_________________________________________________________________\n",
            "dense_14 (Dense)             (None, 10)                7850      \n",
            "=================================================================\n",
            "Total params: 624,074\n",
            "Trainable params: 624,074\n",
            "Non-trainable params: 0\n",
            "_________________________________________________________________\n"
          ],
          "name": "stdout"
        }
      ]
    },
    {
      "metadata": {
        "id": "lBo2oy46VqeM",
        "colab_type": "code",
        "colab": {
          "base_uri": "https://localhost:8080/",
          "height": 714
        },
        "outputId": "a7413a43-7523-479c-da73-c107caeb763c"
      },
      "cell_type": "code",
      "source": [
        "train_labels = to_categorical(train_labels,10)\n",
        "test_labels = to_categorical(test_labels,10)\n",
        "\n",
        "\n",
        "\n",
        "#Compiling the network\n",
        "\n",
        "epochs=20\n",
        "batch_size=128\n",
        "model.compile(optimizer='SGD',loss='categorical_crossentropy',metrics=['accuracy'])\n",
        "history=model.fit(train_images_new2, train_labels, epochs=epochs,batch_size=batch_size, validation_data=(test_images_new2, test_labels))"
      ],
      "execution_count": 28,
      "outputs": [
        {
          "output_type": "stream",
          "text": [
            "Train on 60000 samples, validate on 10000 samples\n",
            "Epoch 1/20\n",
            "60000/60000 [==============================] - 7s 113us/step - loss: 0.9149 - acc: 0.7874 - val_loss: 0.4943 - val_acc: 0.8782\n",
            "Epoch 2/20\n",
            "60000/60000 [==============================] - 7s 110us/step - loss: 0.4444 - acc: 0.8824 - val_loss: 0.3812 - val_acc: 0.8960\n",
            "Epoch 3/20\n",
            "60000/60000 [==============================] - 6s 106us/step - loss: 0.3722 - acc: 0.8969 - val_loss: 0.3362 - val_acc: 0.9062\n",
            "Epoch 4/20\n",
            "60000/60000 [==============================] - 7s 109us/step - loss: 0.3368 - acc: 0.9045 - val_loss: 0.3126 - val_acc: 0.9125\n",
            "Epoch 5/20\n",
            "60000/60000 [==============================] - 6s 105us/step - loss: 0.3135 - acc: 0.9106 - val_loss: 0.2921 - val_acc: 0.9174\n",
            "Epoch 6/20\n",
            "60000/60000 [==============================] - 7s 109us/step - loss: 0.2960 - acc: 0.9152 - val_loss: 0.2781 - val_acc: 0.9219\n",
            "Epoch 7/20\n",
            "60000/60000 [==============================] - 6s 107us/step - loss: 0.2820 - acc: 0.9188 - val_loss: 0.2658 - val_acc: 0.9247\n",
            "Epoch 8/20\n",
            "60000/60000 [==============================] - 7s 108us/step - loss: 0.2698 - acc: 0.9224 - val_loss: 0.2563 - val_acc: 0.9274\n",
            "Epoch 9/20\n",
            "60000/60000 [==============================] - 7s 114us/step - loss: 0.2592 - acc: 0.9256 - val_loss: 0.2478 - val_acc: 0.9301\n",
            "Epoch 10/20\n",
            "60000/60000 [==============================] - 7s 116us/step - loss: 0.2499 - acc: 0.9287 - val_loss: 0.2400 - val_acc: 0.9324\n",
            "Epoch 11/20\n",
            "60000/60000 [==============================] - 7s 111us/step - loss: 0.2413 - acc: 0.9310 - val_loss: 0.2337 - val_acc: 0.9341\n",
            "Epoch 12/20\n",
            "60000/60000 [==============================] - 6s 106us/step - loss: 0.2335 - acc: 0.9334 - val_loss: 0.2257 - val_acc: 0.9357\n",
            "Epoch 13/20\n",
            "60000/60000 [==============================] - 7s 110us/step - loss: 0.2264 - acc: 0.9355 - val_loss: 0.2198 - val_acc: 0.9386\n",
            "Epoch 14/20\n",
            "60000/60000 [==============================] - 7s 112us/step - loss: 0.2196 - acc: 0.9369 - val_loss: 0.2138 - val_acc: 0.9382\n",
            "Epoch 15/20\n",
            "60000/60000 [==============================] - 7s 114us/step - loss: 0.2132 - acc: 0.9393 - val_loss: 0.2087 - val_acc: 0.9395\n",
            "Epoch 16/20\n",
            "60000/60000 [==============================] - 7s 112us/step - loss: 0.2073 - acc: 0.9410 - val_loss: 0.2041 - val_acc: 0.9416\n",
            "Epoch 17/20\n",
            "60000/60000 [==============================] - 7s 115us/step - loss: 0.2018 - acc: 0.9427 - val_loss: 0.2004 - val_acc: 0.9423\n",
            "Epoch 18/20\n",
            "60000/60000 [==============================] - 7s 116us/step - loss: 0.1967 - acc: 0.9442 - val_loss: 0.1957 - val_acc: 0.9432\n",
            "Epoch 19/20\n",
            "60000/60000 [==============================] - 7s 115us/step - loss: 0.1917 - acc: 0.9454 - val_loss: 0.1906 - val_acc: 0.9457\n",
            "Epoch 20/20\n",
            "60000/60000 [==============================] - 7s 113us/step - loss: 0.1871 - acc: 0.9471 - val_loss: 0.1864 - val_acc: 0.9468\n"
          ],
          "name": "stdout"
        }
      ]
    },
    {
      "metadata": {
        "id": "NrSQYTcy93pc",
        "colab_type": "code",
        "colab": {
          "base_uri": "https://localhost:8080/",
          "height": 68
        },
        "outputId": "baa90a27-9057-4a1d-bf75-35878f3d6380"
      },
      "cell_type": "code",
      "source": [
        "#Problem without feature engineering or ratios of white and black pixels - q.4\n",
        "\n",
        "\n",
        "from keras.datasets import mnist\n",
        "from keras import layers\n",
        "from keras import models\n",
        "import numpy as np\n",
        "from keras.utils import to_categorical\n",
        "\n",
        "\n",
        "(train_images,train_labels),(test_images,test_labels)=mnist.load_data()  \n",
        "\n",
        "print('Training Data Shape',train_images.shape)\n",
        "print('Test Data Shape',test_images.shape)\n",
        "print('The train and test labels look like this,' ,train_labels.shape,test_labels.shape)"
      ],
      "execution_count": 23,
      "outputs": [
        {
          "output_type": "stream",
          "text": [
            "Training Data Shape (60000, 28, 28)\n",
            "Test Data Shape (10000, 28, 28)\n",
            "The train and test labels look like this, (60000,) (10000,)\n"
          ],
          "name": "stdout"
        }
      ]
    },
    {
      "metadata": {
        "id": "h7BmAtWm9uCR",
        "colab_type": "code",
        "colab": {
          "base_uri": "https://localhost:8080/",
          "height": 238
        },
        "outputId": "f90b1cd6-fdc3-45bf-9597-8d171205dfae"
      },
      "cell_type": "code",
      "source": [
        "train_images = train_images.reshape(60000, 28*28) \n",
        "test_images = test_images.reshape(10000, 28*28) \n",
        "print(train_images.shape)\n",
        "print(test_images.shape)\n",
        "train_images = train_images.astype('float32') \n",
        "test_images = test_images.astype('float32') \n",
        "\n",
        "train_images/=255\n",
        "test_images/=255\n",
        "\n",
        "\n",
        "#Defining the Single layered Network\n",
        "\n",
        "network=models.Sequential()\n",
        "network.add(layers.Dense((28*28),activation='relu',input_shape=((28*28),)))\n",
        "network.add(layers.Dense(10,activation='softmax'))\n",
        "network.summary()"
      ],
      "execution_count": 24,
      "outputs": [
        {
          "output_type": "stream",
          "text": [
            "(60000, 784)\n",
            "(10000, 784)\n",
            "_________________________________________________________________\n",
            "Layer (type)                 Output Shape              Param #   \n",
            "=================================================================\n",
            "dense_11 (Dense)             (None, 784)               615440    \n",
            "_________________________________________________________________\n",
            "dense_12 (Dense)             (None, 10)                7850      \n",
            "=================================================================\n",
            "Total params: 623,290\n",
            "Trainable params: 623,290\n",
            "Non-trainable params: 0\n",
            "_________________________________________________________________\n"
          ],
          "name": "stdout"
        }
      ]
    },
    {
      "metadata": {
        "id": "Yz_2IpBD_78M",
        "colab_type": "code",
        "colab": {
          "base_uri": "https://localhost:8080/",
          "height": 714
        },
        "outputId": "1f51628e-5788-4bad-8e25-dd5d2629b4a5"
      },
      "cell_type": "code",
      "source": [
        "train_labels = to_categorical(train_labels,10)\n",
        "test_labels = to_categorical(test_labels,10)\n",
        "\n",
        "\n",
        "\n",
        "#Compiling the network\n",
        "\n",
        "epochs=20\n",
        "batch_size=128\n",
        "network.compile(optimizer='SGD',loss='categorical_crossentropy',metrics=['accuracy'])\n",
        "history=network.fit(train_images, train_labels, epochs=epochs,batch_size=batch_size, validation_data=(test_images, test_labels))"
      ],
      "execution_count": 25,
      "outputs": [
        {
          "output_type": "stream",
          "text": [
            "Train on 60000 samples, validate on 10000 samples\n",
            "Epoch 1/20\n",
            "60000/60000 [==============================] - 7s 114us/step - loss: 1.0738 - acc: 0.7751 - val_loss: 0.5814 - val_acc: 0.8699\n",
            "Epoch 2/20\n",
            "60000/60000 [==============================] - 6s 107us/step - loss: 0.5103 - acc: 0.8751 - val_loss: 0.4246 - val_acc: 0.8920\n",
            "Epoch 3/20\n",
            "60000/60000 [==============================] - 7s 109us/step - loss: 0.4130 - acc: 0.8912 - val_loss: 0.3670 - val_acc: 0.9026\n",
            "Epoch 4/20\n",
            "60000/60000 [==============================] - 7s 110us/step - loss: 0.3681 - acc: 0.9006 - val_loss: 0.3353 - val_acc: 0.9098\n",
            "Epoch 5/20\n",
            "60000/60000 [==============================] - 6s 106us/step - loss: 0.3401 - acc: 0.9073 - val_loss: 0.3141 - val_acc: 0.9146\n",
            "Epoch 6/20\n",
            "60000/60000 [==============================] - 6s 108us/step - loss: 0.3203 - acc: 0.9119 - val_loss: 0.2973 - val_acc: 0.9188\n",
            "Epoch 7/20\n",
            "60000/60000 [==============================] - 6s 107us/step - loss: 0.3045 - acc: 0.9156 - val_loss: 0.2848 - val_acc: 0.9232\n",
            "Epoch 8/20\n",
            "60000/60000 [==============================] - 6s 106us/step - loss: 0.2916 - acc: 0.9197 - val_loss: 0.2740 - val_acc: 0.9261\n",
            "Epoch 9/20\n",
            "60000/60000 [==============================] - 6s 108us/step - loss: 0.2806 - acc: 0.9224 - val_loss: 0.2647 - val_acc: 0.9277\n",
            "Epoch 10/20\n",
            "60000/60000 [==============================] - 6s 106us/step - loss: 0.2708 - acc: 0.9249 - val_loss: 0.2567 - val_acc: 0.9303\n",
            "Epoch 11/20\n",
            "60000/60000 [==============================] - 6s 107us/step - loss: 0.2621 - acc: 0.9278 - val_loss: 0.2498 - val_acc: 0.9309\n",
            "Epoch 12/20\n",
            "60000/60000 [==============================] - 6s 104us/step - loss: 0.2541 - acc: 0.9296 - val_loss: 0.2430 - val_acc: 0.9323\n",
            "Epoch 13/20\n",
            "60000/60000 [==============================] - 6s 108us/step - loss: 0.2468 - acc: 0.9320 - val_loss: 0.2366 - val_acc: 0.9345\n",
            "Epoch 14/20\n",
            "60000/60000 [==============================] - 6s 106us/step - loss: 0.2399 - acc: 0.9342 - val_loss: 0.2312 - val_acc: 0.9358\n",
            "Epoch 15/20\n",
            "60000/60000 [==============================] - 6s 103us/step - loss: 0.2335 - acc: 0.9361 - val_loss: 0.2259 - val_acc: 0.9373\n",
            "Epoch 16/20\n",
            "60000/60000 [==============================] - 6s 99us/step - loss: 0.2276 - acc: 0.9376 - val_loss: 0.2212 - val_acc: 0.9379\n",
            "Epoch 17/20\n",
            "60000/60000 [==============================] - 6s 101us/step - loss: 0.2220 - acc: 0.9388 - val_loss: 0.2147 - val_acc: 0.9395\n",
            "Epoch 18/20\n",
            "60000/60000 [==============================] - 6s 102us/step - loss: 0.2166 - acc: 0.9404 - val_loss: 0.2106 - val_acc: 0.9413\n",
            "Epoch 19/20\n",
            "60000/60000 [==============================] - 6s 102us/step - loss: 0.2114 - acc: 0.9414 - val_loss: 0.2067 - val_acc: 0.9419\n",
            "Epoch 20/20\n",
            "60000/60000 [==============================] - 6s 101us/step - loss: 0.2066 - acc: 0.9430 - val_loss: 0.2026 - val_acc: 0.9433\n"
          ],
          "name": "stdout"
        }
      ]
    }
  ]
}