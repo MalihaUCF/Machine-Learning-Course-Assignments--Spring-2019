{
  "nbformat": 4,
  "nbformat_minor": 0,
  "metadata": {
    "colab": {
      "name": "Problem1-correct.ipynb",
      "version": "0.3.2",
      "provenance": [],
      "collapsed_sections": [],
      "include_colab_link": true
    },
    "kernelspec": {
      "name": "python3",
      "display_name": "Python 3"
    }
  },
  "cells": [
    {
      "cell_type": "markdown",
      "metadata": {
        "id": "view-in-github",
        "colab_type": "text"
      },
      "source": [
        "<a href=\"https://colab.research.google.com/github/MalihaUCF/Machine-Learning-Course-Assignments--Spring-2019/blob/master/Assignment1/Problem1/Problem1_correct.ipynb\" target=\"_parent\"><img src=\"https://colab.research.google.com/assets/colab-badge.svg\" alt=\"Open In Colab\"/></a>"
      ]
    },
    {
      "metadata": {
        "id": "cOOlbh3gx-AG",
        "colab_type": "code",
        "outputId": "29b2ddc5-7588-4ba3-a8e8-a890479defd9",
        "colab": {
          "base_uri": "https://localhost:8080/",
          "height": 187
        }
      },
      "cell_type": "code",
      "source": [
        "#Clean Space - code\n",
        "\n",
        "\n",
        "\n",
        "from keras.datasets import mnist\n",
        "import numpy as np\n",
        "\n",
        "(train_images,train_labels),(test_images,test_labels)=mnist.load_data()  \n",
        "\n",
        "\n",
        "\n",
        "print('Training Data Shape',train_images.shape)\n",
        "print('Test Data Shape',test_images.shape)\n",
        "print('The train and test labels look like this,' ,train_labels.shape,test_labels.shape)\n",
        "\n",
        "#modifying class labels\n",
        "y_new = np.zeros(train_labels.shape)\n",
        "y_new[np.where(train_labels == 0.0)[0]] = 1\n",
        "train_labels = y_new\n",
        "\n",
        "#print(y_train[:,7])\n",
        "#print(train_labels[0,1])\n",
        "\n",
        "y_new = np.zeros(test_labels.shape)\n",
        "y_new[np.where(test_labels == 0.0)[0]] = 1\n",
        "test_labels = y_new\n",
        "\n",
        "\n",
        "\n",
        "train_images = train_images.reshape(60000, 28*28) \n",
        "test_images = test_images.reshape(10000, 28*28)\n",
        "\n",
        "\n",
        "train_images = train_images.T \n",
        "test_images=test_images.T\n",
        "\n",
        " \n",
        "train_images = train_images.astype('float32') \n",
        "test_images = test_images.astype('float32') \n",
        "train_images /= 255 \n",
        "test_images /= 255\n",
        "\n",
        "\n",
        "print('X-shape-',train_images.shape)\n",
        "print('Y-shape-',train_labels.shape)\n",
        "\n",
        "train_labels, test_labels = train_labels.reshape(1,60000),test_labels.reshape(1,10000)\n",
        "\n",
        "print('Y-reshape-',train_labels.shape)\n",
        "print('Y-reshape-',test_labels.shape)\n",
        "\n",
        "\n",
        "\n"
      ],
      "execution_count": 1,
      "outputs": [
        {
          "output_type": "stream",
          "text": [
            "Using TensorFlow backend.\n"
          ],
          "name": "stderr"
        },
        {
          "output_type": "stream",
          "text": [
            "Downloading data from https://s3.amazonaws.com/img-datasets/mnist.npz\n",
            "11493376/11490434 [==============================] - 3s 0us/step\n",
            "Training Data Shape (60000, 28, 28)\n",
            "Test Data Shape (10000, 28, 28)\n",
            "The train and test labels look like this, (60000,) (10000,)\n",
            "X-shape- (784, 60000)\n",
            "Y-shape- (60000,)\n",
            "Y-reshape- (1, 60000)\n",
            "Y-reshape- (1, 10000)\n"
          ],
          "name": "stdout"
        }
      ]
    },
    {
      "metadata": {
        "id": "BcSvRlBgy5yt",
        "colab_type": "code",
        "outputId": "41ac36d6-9a61-40e6-c426-01d794c81756",
        "colab": {
          "base_uri": "https://localhost:8080/",
          "height": 139
        }
      },
      "cell_type": "code",
      "source": [
        "%matplotlib inline\n",
        "import matplotlib\n",
        "import matplotlib.pyplot as plt\n",
        "\n",
        "i = 34\n",
        "plt.figure(figsize = (1,1))\n",
        "plt.imshow(train_images[:,i].reshape(28,28), cmap = matplotlib.cm.binary)\n",
        "plt.axis(\"off\")\n",
        "plt.show()\n",
        "print(train_labels[:,i])\n",
        "print(train_labels[:,8])"
      ],
      "execution_count": 2,
      "outputs": [
        {
          "output_type": "display_data",
          "data": {
            "image/png": "[encoded data removed]",
            "text/plain": [
              "<Figure size 72x72 with 1 Axes>"
            ]
          },
          "metadata": {
            "tags": []
          }
        },
        {
          "output_type": "stream",
          "text": [
            "[1.]\n",
            "[0.]\n"
          ],
          "name": "stdout"
        }
      ]
    },
    {
      "metadata": {
        "id": "rMoanidByFWV",
        "colab_type": "code",
        "colab": {}
      },
      "cell_type": "code",
      "source": [
        "def sigmoid(z):\n",
        "    s = 1 / (1 + np.exp(-z))\n",
        "    return s\n",
        "\n",
        "  \n",
        "def compute_loss(Y, Y_hat):   #binary cross entropy\n",
        "\n",
        "  m = Y.shape[1]\n",
        "  L = -(1./m) * ( np.sum( np.multiply(np.log(Y_hat),Y) ) + np.sum( np.multiply(np.log(1-Y_hat),(1-Y)) ) )\n",
        "\n",
        "  return L\n",
        "\n",
        "\n",
        "\n"
      ],
      "execution_count": 0,
      "outputs": []
    },
    {
      "metadata": {
        "id": "7Z4jL8n5ydUt",
        "colab_type": "code",
        "colab": {}
      },
      "cell_type": "code",
      "source": [
        "\n",
        "def squared_loss(Y,A):   # mean square error\n",
        "  \n",
        "  m =  m = Y.shape[1]\n",
        "  L = np.square(Y - A).mean()\n",
        " \n",
        "    \n",
        "  return L\n"
      ],
      "execution_count": 0,
      "outputs": []
    },
    {
      "metadata": {
        "id": "u9CDIfA34f3x",
        "colab_type": "code",
        "colab": {}
      },
      "cell_type": "code",
      "source": [
        "def mini_batches(X, Y, batchsize):\n",
        "    for start_idx in range(0, X.shape[0] - batchsize + 1, batchsize):\n",
        "        excerpt = slice(start_idx, start_idx + batchsize)\n",
        "        yield X[excerpt], Y[excerpt]\n",
        "        \n",
        "               \n",
        "        "
      ],
      "execution_count": 0,
      "outputs": []
    },
    {
      "metadata": {
        "id": "pTIkJvHiyR6F",
        "colab_type": "code",
        "colab": {
          "base_uri": "https://localhost:8080/",
          "height": 187
        },
        "outputId": "0c535a4b-e918-445f-a918-b8a518f792cf"
      },
      "cell_type": "code",
      "source": [
        "learning_rate = 1\n",
        "batch_size=32\n",
        "costs = []\n",
        "\n",
        "X = train_images\n",
        "Y = train_labels\n",
        "\n",
        "n_x = X.shape[0]\n",
        "m = X.shape[1]\n",
        "\n",
        "#W = np.random.randn(n_x, 1) * 0.01\n",
        "#b = np.zeros((1, 1))\n",
        "\n",
        "W = np.zeros(shape=(n_x,1))\n",
        "b = 0\n",
        "        \n",
        "for i in range(1000):\n",
        "  \n",
        "  \n",
        "  for batch in mini_batches(X.T, Y.T, batch_size):\n",
        "    \n",
        "      x_batch, y_batch = batch\n",
        "      \n",
        "      Z = np.matmul(W.T, x_batch.T) + b\n",
        "      A = sigmoid(Z)\n",
        "      \n",
        "      #cost = compute_loss(Y, A)\n",
        "      cost=squared_loss(y_batch.T,A)  #continue from here\n",
        "\n",
        "      dW = (1/m) * np.matmul(x_batch.T, (A-y_batch).T)\n",
        "      db = (1/m) * np.sum(A-y_batch.T, axis=1, keepdims=True)\n",
        "\n",
        "      W = W - learning_rate * dW\n",
        "      b = b - learning_rate * db\n",
        "\n",
        "  costs.append(cost)   \n",
        "      \n",
        "  if (i % 100 == 0):\n",
        "      print(\"Epoch\", i, \"cost: \", cost)\n",
        "\n",
        "     \n",
        "\n",
        "        \n",
        "      \n",
        "\n",
        "        "
      ],
      "execution_count": 43,
      "outputs": [
        {
          "output_type": "stream",
          "text": [
            "Epoch 0 cost:  0.07567278984229237\n",
            "Epoch 100 cost:  0.06467387508976799\n",
            "Epoch 200 cost:  0.062215853540801086\n",
            "Epoch 300 cost:  0.06130401233671739\n",
            "Epoch 400 cost:  0.06093465521256239\n",
            "Epoch 500 cost:  0.06079048385199266\n",
            "Epoch 600 cost:  0.060748398940122204\n",
            "Epoch 700 cost:  0.06075486066672919\n",
            "Epoch 800 cost:  0.060784646344800616\n",
            "Epoch 900 cost:  0.06082516971131548\n"
          ],
          "name": "stdout"
        }
      ]
    },
    {
      "metadata": {
        "id": "j8qK_9-mVu4w",
        "colab_type": "code",
        "colab": {}
      },
      "cell_type": "code",
      "source": [
        "#Test code left only, minibatch and loss fucntion all correct\n",
        "\n",
        "\n",
        "def accuracy(data, weight, bias):\n",
        "    m = data.shape[0]\n",
        "    print(m)\n",
        "    cnt = 0\n",
        "    for i in range(m):\n",
        "        x = data[i, :]\n",
        "        print(x.shape)\n",
        "        t = np.dot(weight.T, x) + bias\n",
        "        #print(t)\n",
        "        if t.all() > 0:\n",
        "            if data[i, 0] > 0:\n",
        "                cnt += 1\n",
        "        else:\n",
        "            if data[i, 0] < 0:\n",
        "                cnt += 1\n",
        "    return cnt/m * 100\n",
        "  \n",
        "#print('Accuarcy on test data is', accuracy(Test_data, finalWeight, finalBias))\n",
        "  \n",
        "  "
      ],
      "execution_count": 0,
      "outputs": []
    },
    {
      "metadata": {
        "id": "Jo7D5hLWV1Zn",
        "colab_type": "code",
        "colab": {
          "base_uri": "https://localhost:8080/"
        },
        "outputId": "d3bc172e-4493-4e37-ff40-42bceff9f51e"
      },
      "cell_type": "code",
      "source": [
        "accuracy=accuracy(test_images.T,W,b)\n",
        "\n",
        "\n",
        "Print('Test accuracy is',accuracy)"
      ],
      "execution_count": 2,
      "outputs": [
        {
          "output_type": "error",
          "ename": "NameError",
          "evalue": "ignored",
          "traceback": [
            "\u001b[0;31m---------------------------------------------------------------------------\u001b[0m",
            "\u001b[0;31mNameError\u001b[0m                                 Traceback (most recent call last)",
            "\u001b[0;32m<ipython-input-2-20b089afff6f>\u001b[0m in \u001b[0;36m<module>\u001b[0;34m()\u001b[0m\n\u001b[0;32m----> 1\u001b[0;31m \u001b[0maccuracy\u001b[0m\u001b[0;34m=\u001b[0m\u001b[0maccuracy\u001b[0m\u001b[0;34m(\u001b[0m\u001b[0mtest_images\u001b[0m\u001b[0;34m.\u001b[0m\u001b[0mT\u001b[0m\u001b[0;34m,\u001b[0m\u001b[0mW\u001b[0m\u001b[0;34m,\u001b[0m\u001b[0mb\u001b[0m\u001b[0;34m)\u001b[0m\u001b[0;34m\u001b[0m\u001b[0;34m\u001b[0m\u001b[0m\n\u001b[0m\u001b[1;32m      2\u001b[0m \u001b[0;34m\u001b[0m\u001b[0m\n\u001b[1;32m      3\u001b[0m \u001b[0;34m\u001b[0m\u001b[0m\n\u001b[1;32m      4\u001b[0m \u001b[0mPrint\u001b[0m\u001b[0;34m(\u001b[0m\u001b[0;34m'Test accuracy is'\u001b[0m\u001b[0;34m,\u001b[0m\u001b[0maccuracy\u001b[0m\u001b[0;34m)\u001b[0m\u001b[0;34m\u001b[0m\u001b[0;34m\u001b[0m\u001b[0m\n",
            "\u001b[0;31mNameError\u001b[0m: name 'test_images' is not defined"
          ]
        }
      ]
    },
    {
      "metadata": {
        "id": "bKktGyR4XFr4",
        "colab_type": "code",
        "colab": {}
      },
      "cell_type": "code",
      "source": [
        "learning_rate = 1\n",
        "\n",
        "X = train_images\n",
        "Y = train_labels\n",
        "\n",
        "n_x = X.shape[0]\n",
        "m = X.shape[1]\n",
        "\n",
        "W = np.random.randn(n_x, 1) * 0.01\n",
        "b = np.zeros((1, 1))\n",
        "\n",
        "        \n",
        "for i in range(1000):\n",
        "     \n",
        "    Z = np.matmul(W.T, X) + b\n",
        "    A = sigmoid(Z)\n",
        "\n",
        "    #cost = compute_loss(Y, A)\n",
        "    cost=squared_loss(Y,A)  #continue from here\n",
        "\n",
        "    dW = (1/m) * np.matmul(X, (A-Y).T)\n",
        "    db = (1/m) * np.sum(A-Y, axis=1, keepdims=True)\n",
        "\n",
        "    W = W - learning_rate * dW\n",
        "    b = b - learning_rate * db\n",
        "\n",
        "    if (i % 100 == 0):\n",
        "        print(\"Epoch\", i, \"cost: \", cost)"
      ],
      "execution_count": 0,
      "outputs": []
    },
    {
      "metadata": {
        "id": "WaeDZ0M8yPxN",
        "colab_type": "code",
        "colab": {}
      },
      "cell_type": "code",
      "source": [
        "from sklearn.metrics import classification_report, confusion_matrix\n",
        "\n",
        "\n",
        "print(W.shape)\n",
        "print(W)\n",
        "\n",
        "X=test_images\n",
        "Y=test_labels\n",
        "\n",
        "predictions=[]\n",
        "labels=[]\n",
        "\n",
        "for batch in mini_batches(X.T, Y.T, batch_size):\n",
        "  \n",
        "  x_batch, y_batch = batch\n",
        "  Z = np.matmul(W.T, x_batch.T) + b\n",
        "  A = sigmoid(Z)\n",
        "\n",
        "  prediction = (A>.5)[0,:]\n",
        "  label = (test_labels == 1)[0,:]\n",
        "  \n",
        "  predictions.append(prediction)\n",
        "  labels.append(label)\n",
        "  \n",
        "#print(confusion_matrix(predictions, labels))\n",
        "\n",
        "\n",
        "print(classification_report(predictions, labels))\n",
        "\n"
      ],
      "execution_count": 0,
      "outputs": []
    },
    {
      "metadata": {
        "id": "kYoP0lqkAImx",
        "colab_type": "code",
        "colab": {}
      },
      "cell_type": "code",
      "source": [
        ""
      ],
      "execution_count": 0,
      "outputs": []
    },
    {
      "metadata": {
        "id": "uLW0nC5JvnOg",
        "colab_type": "code",
        "colab": {}
      },
      "cell_type": "code",
      "source": [
        "def accuracy(data, weight, bias):\n",
        "    m = data.shape[0]\n",
        "    \n",
        "    \n",
        "    cnt = 0\n",
        "    for i in range(m):\n",
        "        x = data[i, 1:]\n",
        "        \n",
        "        print(W.shape)\n",
        "        print(x.shape)\n",
        "        t = np.dot(weight.T, x) + bias\n",
        "        if t > 0:\n",
        "            if data[i, 0] > 0:\n",
        "                cnt += 1\n",
        "        else:\n",
        "            if data[i, 0] < 0:\n",
        "                cnt += 1\n",
        "    return cnt/m * 100\n",
        "  \n",
        "#print('Accuarcy on test data is', accuracy(Test_data, finalWeight, finalBias))\n",
        "  \n",
        "  "
      ],
      "execution_count": 0,
      "outputs": []
    },
    {
      "metadata": {
        "id": "V1hxQF6QvhUH",
        "colab_type": "code",
        "colab": {}
      },
      "cell_type": "code",
      "source": [
        "\n",
        "accuracy=accuracy(test_images.reshape(1,),W,b)\n",
        "\n",
        "\n",
        "Print('Test accuracy is',accuracy)"
      ],
      "execution_count": 0,
      "outputs": []
    },
    {
      "metadata": {
        "id": "mgIMq1gxvPyA",
        "colab_type": "code",
        "colab": {}
      },
      "cell_type": "code",
      "source": [
        "#accuracy code - check\n",
        "\n",
        "\n",
        "def accuracy(data, weight, bias):\n",
        "    m = data.shape[0]\n",
        "    cnt = 0\n",
        "    for i in range(m):\n",
        "        x = data[i, 1:]\n",
        "        t = np.dot(weight.T, x) + bias\n",
        "        if t > 0:\n",
        "            if data[i, 0] > 0:\n",
        "                cnt += 1\n",
        "        else:\n",
        "            if data[i, 0] < 0:\n",
        "                cnt += 1\n",
        "    return cnt/m * 100\n",
        "  \n",
        "print('Accuarcy on test data is', accuracy(Test_data, finalWeight, finalBias))\n",
        "  \n",
        "  "
      ],
      "execution_count": 0,
      "outputs": []
    }
  ]
}