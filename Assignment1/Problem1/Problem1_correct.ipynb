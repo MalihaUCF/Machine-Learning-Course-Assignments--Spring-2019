{
  "nbformat": 4,
  "nbformat_minor": 0,
  "metadata": {
    "colab": {
      "name": "Problem1-correct.ipynb",
      "version": "0.3.2",
      "provenance": [],
      "collapsed_sections": [],
      "include_colab_link": true
    },
    "kernelspec": {
      "name": "python3",
      "display_name": "Python 3"
    }
  },
  "cells": [
    {
      "cell_type": "markdown",
      "metadata": {
        "id": "view-in-github",
        "colab_type": "text"
      },
      "source": [
        "<a href=\"https://colab.research.google.com/github/MalihaUCF/Machine-Learning-Course-Assignments--Spring-2019/blob/master/Assignment1/Problem1/Problem1_correct.ipynb\" target=\"_parent\"><img src=\"https://colab.research.google.com/assets/colab-badge.svg\" alt=\"Open In Colab\"/></a>"
      ]
    },
    {
      "metadata": {
        "id": "-BUSngBkoCT9",
        "colab_type": "code",
        "outputId": "8f798e6c-9a2d-4cd6-9aba-4a1f49ebbdf6",
        "colab": {
          "base_uri": "https://localhost:8080/",
          "height": 68
        }
      },
      "cell_type": "code",
      "source": [
        "#This code trains 1 neural network classifier for digit 5\n",
        "\n",
        "\n",
        "#Code Author : Maliha Arif\n",
        "#PID:4506817\n",
        "    \n",
        "\n",
        "#Downloading MNIST dataset\n",
        "\n",
        "from keras.datasets import mnist\n",
        "import numpy as np\n",
        "\n",
        "(train_images_original,train_labels_original),(test_images_original,test_labels_original)=mnist.load_data()  \n",
        "\n",
        "\n",
        "\n",
        "print('Training Data Shape',train_images_original.shape)\n",
        "print('Test Data Shape',test_images_original.shape)\n",
        "print('The train and test labels look like,' ,train_labels_original.shape,test_labels_original.shape)\n"
      ],
      "execution_count": 30,
      "outputs": [
        {
          "output_type": "stream",
          "text": [
            "Training Data Shape (60000, 28, 28)\n",
            "Test Data Shape (10000, 28, 28)\n",
            "The train and test labels look like, (60000,) (10000,)\n"
          ],
          "name": "stdout"
        }
      ]
    },
    {
      "metadata": {
        "id": "NXIm2hLaseHw",
        "colab_type": "code",
        "outputId": "69f24f5a-a173-41f6-e33e-0dc0782ad230",
        "colab": {
          "base_uri": "https://localhost:8080/",
          "height": 85
        }
      },
      "cell_type": "code",
      "source": [
        "#The downloaded images are reshaped to 1D feature vector of size 28*28\n",
        "\n",
        "\n",
        "train_images_original = train_images_original.reshape(60000, 28*28) \n",
        "test_images_original = test_images_original.reshape(10000, 28*28)\n",
        "\n",
        "train_images_original = train_images_original.T \n",
        "test_images_original=test_images_original.T\n",
        "\n",
        " \n",
        "train_images_original = train_images_original.astype('float32') \n",
        "test_images_original = test_images_original.astype('float32') \n",
        "\n",
        "#The images are normalized to have values between 0 and 1\n",
        "train_images_original /= 255 \n",
        "test_images_original /= 255\n",
        "\n",
        "\n",
        "print(train_images_original.shape)\n",
        "print(test_images_original.shape)\n",
        "print(train_labels_original.shape)\n",
        "print(test_labels_original.shape)"
      ],
      "execution_count": 31,
      "outputs": [
        {
          "output_type": "stream",
          "text": [
            "(784, 60000)\n",
            "(784, 10000)\n",
            "(60000,)\n",
            "(10000,)\n"
          ],
          "name": "stdout"
        }
      ]
    },
    {
      "metadata": {
        "id": "DVyZq_Sjsepo",
        "colab_type": "code",
        "outputId": "90863bff-5f22-4cb9-906a-e4a899a1dc52",
        "colab": {
          "base_uri": "https://localhost:8080/",
          "height": 51
        }
      },
      "cell_type": "code",
      "source": [
        "#Here we modify class labels using np.where so that we can train a 1 class classifier that identifies class 5\n",
        "#Train labels with digit 5 label are labelled as 1 and rest other digits are labelled 0\n",
        "\n",
        "y_new = np.zeros(train_labels_original.shape)\n",
        "y_new[np.where(train_labels_original == 5)[0]] = 1\n",
        "train_labels = y_new\n",
        "\n",
        "y_new = np.zeros(test_labels_original.shape)\n",
        "y_new[np.where(test_labels_original == 5)[0]] = 1\n",
        "test_labels = y_new\n",
        "\n",
        "print(train_labels.shape)\n",
        "print(test_labels.shape)"
      ],
      "execution_count": 32,
      "outputs": [
        {
          "output_type": "stream",
          "text": [
            "(60000,)\n",
            "(10000,)\n"
          ],
          "name": "stdout"
        }
      ]
    },
    {
      "metadata": {
        "id": "Rsnm45ZsuLQu",
        "colab_type": "code",
        "colab": {}
      },
      "cell_type": "code",
      "source": [
        "\n",
        "#Here we define activation and all loss functions\n",
        "\n",
        "#defining sigmoid activation function\n",
        "def sigmoid(z):\n",
        "  s = 1 / (1 + np.exp(-z))\n",
        "  return s\n",
        "\n",
        "\n",
        "#defining mean squared error loss\n",
        "def mse(Y,A):   \n",
        "  \n",
        "  m =  m = Y.shape[1]\n",
        "  L = np.square(Y - A).mean()\n",
        "  return L\n",
        "  \n",
        "  \n",
        "#defining mean squared error loss with activation function\n",
        "def squared_loss(w,b,X,Y):\n",
        "  \n",
        "  m =  m = X.shape[1]\n",
        "  A = sigmoid(np.dot(w.T, X) + b)\n",
        "  L = np.square(Y - A).mean()   #calculating loss\n",
        " \n",
        "  # binary entropy gradients\n",
        "  dw = (1 / m) * np.dot(X, (A - Y).T)  #weight update\n",
        "  db = (1 / m) * np.sum(A - Y)\n",
        "  \n",
        "  grads = {\"dw\": dw,      #storing gradients in dictionary\n",
        "            \"db\": db }\n",
        "    \n",
        "  return L,grads\n",
        "\n",
        " \n",
        "#binary cross entropy   \n",
        "def compute_loss(Y, Y_hat):   \n",
        "\n",
        "  m = Y.shape[1]\n",
        "  L = -(1./m) * ( np.sum( np.multiply(np.log(Y_hat),Y) ) + np.sum( np.multiply(np.log(1-Y_hat),(1-Y)) ) )\n",
        "\n",
        "  return L\n",
        "\n",
        "#binary cross entropy with activation function\n",
        "def binary_cross_entropy(w,b,X,Y):  \n",
        "  \n",
        "  m =  m = X.shape[1]\n",
        "  A = sigmoid(np.dot(w.T, X) + b)\n",
        "  L = (- 1 / m) * np.sum(Y * np.log(A) + (1 - Y) * (np.log(1 - A)))  #calculating loss\n",
        " \n",
        "  L = np.squeeze(L)\n",
        "  dw = (1 / m) * np.dot(X, (A - Y).T)  #weight update\n",
        "  db = (1 / m) * np.sum(A - Y)\n",
        "  \n",
        "  grads = {\"dw\": dw,    #storing gradients in dictionary\n",
        "            \"db\": db }\n",
        "    \n",
        "  return L,grads"
      ],
      "execution_count": 0,
      "outputs": []
    },
    {
      "metadata": {
        "id": "5xpFrQGzvkWE",
        "colab_type": "code",
        "colab": {}
      },
      "cell_type": "code",
      "source": [
        "\n",
        "#We initialize weights and biases\n",
        "def initialize_wb(size):\n",
        "  w = np.zeros(shape=(size, 1))  #an empty vector for weight\n",
        "  b = 0  #bias simply is 0, scalar quantity\n",
        "  return w,b\n",
        "\n",
        "\n",
        "#this function splits the training set into slices to train in batches\n",
        "\n",
        "def mini_batches(X_whole, Y_whole, batchsize):\n",
        "  for index in range(0, X_whole.shape[0] - batchsize + 1, batchsize):\n",
        "    batch = slice(index, index + batchsize)\n",
        "    yield X_whole[batch], Y_whole[batch]"
      ],
      "execution_count": 0,
      "outputs": []
    },
    {
      "metadata": {
        "id": "RUrK4qmVwZPE",
        "colab_type": "code",
        "colab": {}
      },
      "cell_type": "code",
      "source": [
        "\n",
        "#Defining some hyperparameters\n",
        "learning_rate = 0.01\n",
        "batch_size = 128\n",
        "classes = 1\n",
        "\n",
        "#our main optimize function - Minibatch - Stochastic Gradient Descent is defined here\n",
        "\n",
        "def SGD(w, b, X, Y, epochs, learning_rate):\n",
        "  \n",
        "  loss_total = []\n",
        "  print(X.shape)\n",
        "  print(Y.shape)\n",
        "  \n",
        "  print('\\n Results for Network 5\\n\\n')\n",
        "  \n",
        "  for i in range(epochs):\n",
        "      \n",
        "    for batch in mini_batches(X.T, Y.T, batch_size):\n",
        "    \n",
        "       x_batch, y_batch = batch\n",
        "       #print(x_batch.shape)\n",
        "       L,grads = squared_loss(w, b, x_batch.T, y_batch.T)  #Calling function MSE \n",
        "       dw = grads[\"dw\"]\n",
        "       db = grads[\"db\"]\n",
        "       w = w - learning_rate * dw   #updating weights\n",
        "       b = b - learning_rate * db   #updating biases\n",
        "        \n",
        "       #print(w.shape)\n",
        "\n",
        "       \n",
        "    loss_total.append(L)\n",
        "    print (\" Epoch %i , Loss: %f\" % (i, L))\n",
        "            \n",
        "  final_wb = {\"w\": w,\n",
        "            \"b\": b}\n",
        "\n",
        "  grads = {\"dw\": dw,\n",
        "               \"db\": db}\n",
        "\n",
        "  return final_wb, loss_total"
      ],
      "execution_count": 0,
      "outputs": []
    },
    {
      "metadata": {
        "id": "LWeo6GuVwkKk",
        "colab_type": "code",
        "outputId": "b67d2afb-7458-4a61-a165-9332f8959eec",
        "colab": {
          "base_uri": "https://localhost:8080/",
          "height": 425
        }
      },
      "cell_type": "code",
      "source": [
        "#This evaluate function is used to test our model\n",
        "\n",
        "def evaluate(w, b, X):\n",
        "  m = X.shape[1]\n",
        "  y_hat = np.zeros((1, m))\n",
        "  w = w.reshape(X.shape[0], classes)\n",
        "  A = sigmoid(np.dot(w.T, X) + b)\n",
        "  for i in range(A.shape[1]):\n",
        "    y_hat[0, i] = 1 if A[0, i] > 0.5 else 0\n",
        "  return y_hat\n",
        "\n",
        "\n",
        "#This function defines our model, test set is also then evaluated\n",
        "\n",
        "def model(X_train, Y_train, X_test, Y_test, num_iterations=2000):\n",
        "   w, b = initialize_wb(X_train.shape[0])\n",
        "   final_wb,loss = SGD(w, b, X_train, Y_train, num_iterations, learning_rate)\n",
        "   #print(w.shape)\n",
        "   w = final_wb[\"w\"]\n",
        "   b = final_wb[\"b\"]\n",
        "   test_accuracy = evaluate(w, b, X_test)\n",
        "   print(\"\\n\\n Test accuracy is : {} %\".format(100 - np.mean(np.abs(test_accuracy - Y_test)) * 100))\n",
        "\n",
        "#we call our model function and begin training\n",
        "train_classifier = model(train_images_original, train_labels, test_images_original, test_labels, num_iterations = 15)   \n",
        "  "
      ],
      "execution_count": 36,
      "outputs": [
        {
          "output_type": "stream",
          "text": [
            "(784, 60000)\n",
            "(60000,)\n",
            "\n",
            " Results for Network 5\n",
            "\n",
            "\n",
            " Epoch 0 , Loss: 0.038486\n",
            " Epoch 1 , Loss: 0.022932\n",
            " Epoch 2 , Loss: 0.016934\n",
            " Epoch 3 , Loss: 0.014101\n",
            " Epoch 4 , Loss: 0.012507\n",
            " Epoch 5 , Loss: 0.011494\n",
            " Epoch 6 , Loss: 0.010796\n",
            " Epoch 7 , Loss: 0.010287\n",
            " Epoch 8 , Loss: 0.009901\n",
            " Epoch 9 , Loss: 0.009601\n",
            " Epoch 10 , Loss: 0.009361\n",
            " Epoch 11 , Loss: 0.009167\n",
            " Epoch 12 , Loss: 0.009008\n",
            " Epoch 13 , Loss: 0.008875\n",
            " Epoch 14 , Loss: 0.008764\n",
            "\n",
            "\n",
            " Test accuracy is : 96.46 %\n"
          ],
          "name": "stdout"
        }
      ]
    }
  ]
}