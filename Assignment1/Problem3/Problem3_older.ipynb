{
  "nbformat": 4,
  "nbformat_minor": 0,
  "metadata": {
    "colab": {
      "name": "Problem3-updated.ipynb",
      "version": "0.3.2",
      "provenance": [],
      "include_colab_link": true
    },
    "kernelspec": {
      "name": "python3",
      "display_name": "Python 3"
    }
  },
  "cells": [
    {
      "cell_type": "markdown",
      "metadata": {
        "id": "view-in-github",
        "colab_type": "text"
      },
      "source": [
        "<a href=\"https://colab.research.google.com/github/MalihaUCF/Machine-Learning-Course-Assignments--Spring-2019/blob/master/Assignment1/Problem3/Problem3_updated.ipynb\" target=\"_parent\"><img src=\"https://colab.research.google.com/assets/colab-badge.svg\" alt=\"Open In Colab\"/></a>"
      ]
    },
    {
      "metadata": {
        "id": "CjnoxWBKQIg8",
        "colab_type": "code",
        "colab": {
          "base_uri": "https://localhost:8080/",
          "height": 571
        },
        "outputId": "b5947c8b-9341-4eae-827b-7fdccef7a7ef"
      },
      "cell_type": "code",
      "source": [
        "#Correct from here\n",
        "\n",
        "from keras.datasets import mnist\n",
        "import numpy as np\n",
        "%matplotlib inline\n",
        "import matplotlib\n",
        "import matplotlib.pyplot as plt\n",
        "\n",
        "(train_images,train_labels),(test_images,test_labels)=mnist.load_data()  \n",
        "\n",
        "\n",
        "\n",
        "print('Training Data Shape',train_images.shape)\n",
        "print('Test Data Shape',test_images.shape)\n",
        "print('The train and test labels look like this,' ,train_labels.shape,test_labels.shape)\n",
        "\n",
        "\n",
        "print('train_labels',train_labels[1])\n",
        "\n",
        "#train_images,test_images=train_images.reshape(28*28,60000),test_images.reshape(28*28,10000)\n",
        "#train_labels,test_labels=train_labels.reshape(1,60000),test_labels.reshape(1,10000)\n",
        "\n",
        "train_images = train_images.reshape(60000, 28*28) \n",
        "test_images = test_images.reshape(10000, 28*28)\n",
        "\n",
        "\n",
        "train_images = train_images.T \n",
        "test_images=test_images.T\n",
        "\n",
        "\n",
        "print(train_images.shape)\n",
        "print(train_labels.shape)\n",
        "\n",
        "train_images = train_images.astype('float32') \n",
        "test_images = test_images.astype('float32') \n",
        "train_images /= 255 \n",
        "test_images /= 255\n",
        "\n",
        "np.random.seed(138)\n",
        "shuffle_index = np.random.permutation(60000)\n",
        "print(shuffle_index)\n",
        "#train_images, train_labels = train_images[:,shuffle_index], train_labels[:,shuffle_index]\n",
        "print(train_images.shape)\n",
        "print(train_labels.shape)\n",
        "\n",
        "train_labels, test_labels = train_labels.reshape(1,60000),test_labels.reshape(1,10000)\n",
        "\n",
        "print('Y-reshape-',train_labels.shape)\n",
        "print('Y-reshape-',test_labels.shape)\n",
        "\n",
        "\n",
        "train_labels_new = np.eye(10)[train_labels.astype('int32')]\n",
        "test_labels_new=np.eye(10)[test_labels.astype('int32')]\n",
        "\n",
        "print(train_labels_new.shape)\n",
        "\n",
        "train_labels_new=train_labels_new.T.reshape(10,60000)\n",
        "test_labels_new=test_labels_new.T.reshape(10,10000)\n",
        "\n",
        "print(train_labels_new.shape)\n",
        "\n",
        "\n",
        "i = 12\n",
        "plt.imshow(train_images[:,i].reshape(28,28), cmap = matplotlib.cm.binary)\n",
        "plt.axis(\"off\")\n",
        "plt.show()\n",
        "print(train_labels_new[:,i])\n",
        "print(train_labels[:,i])\n"
      ],
      "execution_count": 1,
      "outputs": [
        {
          "output_type": "stream",
          "text": [
            "Using TensorFlow backend.\n"
          ],
          "name": "stderr"
        },
        {
          "output_type": "stream",
          "text": [
            "Downloading data from https://s3.amazonaws.com/img-datasets/mnist.npz\n",
            "11493376/11490434 [==============================] - 1s 0us/step\n",
            "Training Data Shape (60000, 28, 28)\n",
            "Test Data Shape (10000, 28, 28)\n",
            "The train and test labels look like this, (60000,) (10000,)\n",
            "train_labels 0\n",
            "(784, 60000)\n",
            "(60000,)\n",
            "[45084 33389 21425 ... 33653 57833 58618]\n",
            "(784, 60000)\n",
            "(60000,)\n",
            "Y-reshape- (1, 60000)\n",
            "Y-reshape- (1, 10000)\n",
            "(1, 60000, 10)\n",
            "(10, 60000)\n"
          ],
          "name": "stdout"
        },
        {
          "output_type": "display_data",
          "data": {
            "image/png": "[encoded data removed]",
            "text/plain": [
              "<Figure size 432x288 with 1 Axes>"
            ]
          },
          "metadata": {
            "tags": []
          }
        },
        {
          "output_type": "stream",
          "text": [
            "[0. 0. 0. 1. 0. 0. 0. 0. 0. 0.]\n",
            "[3]\n"
          ],
          "name": "stdout"
        }
      ]
    },
    {
      "metadata": {
        "id": "JvsjQsGud1IE",
        "colab_type": "code",
        "colab": {}
      },
      "cell_type": "code",
      "source": [
        "def sigmoid(z):\n",
        "    s = 1 / (1 + np.exp(-z))\n",
        "    return s"
      ],
      "execution_count": 0,
      "outputs": []
    },
    {
      "metadata": {
        "id": "Gf7y6md33ed2",
        "colab_type": "code",
        "colab": {}
      },
      "cell_type": "code",
      "source": [
        "def compute_multiclass_loss(Y, Y_hat):\n",
        "\n",
        "    L_sum = np.sum(np.multiply(Y, np.log(Y_hat)))\n",
        "    m = Y.shape[1]\n",
        "    L = -(1/m) * L_sum\n",
        "\n",
        "    return L"
      ],
      "execution_count": 0,
      "outputs": []
    },
    {
      "metadata": {
        "id": "6qJfvzgAdhDe",
        "colab_type": "code",
        "colab": {
          "base_uri": "https://localhost:8080/",
          "height": 374
        },
        "outputId": "039778b5-0b87-46aa-f241-9df0d8f0cdce"
      },
      "cell_type": "code",
      "source": [
        "n_x = train_images.shape[0]\n",
        "n_h = 64\n",
        "learning_rate = 1\n",
        "\n",
        "\n",
        "digits=10\n",
        "\n",
        "m = train_images.shape[1]\n",
        "\n",
        "W1 = np.random.randn(n_h, n_x)\n",
        "b1 = np.zeros((n_h, 1))\n",
        "W2 = np.random.randn(digits, n_h)\n",
        "b2 = np.zeros((digits, 1))\n",
        "\n",
        "X = train_images\n",
        "Y = train_labels_new\n",
        "\n",
        "for i in range(2000):\n",
        "\n",
        "    Z1 = np.matmul(W1,X) + b1\n",
        "    A1 = sigmoid(Z1)\n",
        "    Z2 = np.matmul(W2,A1) + b2\n",
        "    A2 = np.exp(Z2) / np.sum(np.exp(Z2), axis=0)\n",
        "\n",
        "    cost = compute_multiclass_loss(Y, A2)\n",
        "\n",
        "    dZ2 = A2-Y\n",
        "    dW2 = (1./m) * np.matmul(dZ2, A1.T)\n",
        "    db2 = (1./m) * np.sum(dZ2, axis=1, keepdims=True)\n",
        "\n",
        "    dA1 = np.matmul(W2.T, dZ2)\n",
        "    dZ1 = dA1 * sigmoid(Z1) * (1 - sigmoid(Z1))\n",
        "    dW1 = (1./m) * np.matmul(dZ1, X.T)\n",
        "    db1 = (1./m) * np.sum(dZ1, axis=1, keepdims=True)\n",
        "\n",
        "    W2 = W2 - learning_rate * dW2\n",
        "    b2 = b2 - learning_rate * db2\n",
        "    W1 = W1 - learning_rate * dW1\n",
        "    b1 = b1 - learning_rate * db1\n",
        "\n",
        "    if (i % 100 == 0):\n",
        "        print(\"Epoch\", i, \"cost: \", cost)\n",
        "\n",
        "print(\"Final cost:\", cost)"
      ],
      "execution_count": 12,
      "outputs": [
        {
          "output_type": "stream",
          "text": [
            "Epoch 0 cost:  8.105538117919917\n",
            "Epoch 100 cost:  0.7285164584883146\n",
            "Epoch 200 cost:  0.5645716335327154\n",
            "Epoch 300 cost:  0.49082261811517225\n",
            "Epoch 400 cost:  0.44472056413233496\n",
            "Epoch 500 cost:  0.41175847688991823\n",
            "Epoch 600 cost:  0.3863100228653539\n",
            "Epoch 700 cost:  0.36560425535572744\n",
            "Epoch 800 cost:  0.3481280680313978\n",
            "Epoch 900 cost:  0.33306154588027276\n",
            "Epoch 1000 cost:  0.3199195383117037\n",
            "Epoch 1100 cost:  0.30834731819417666\n",
            "Epoch 1200 cost:  0.29806950006493377\n",
            "Epoch 1300 cost:  0.28885815159904865\n",
            "Epoch 1400 cost:  0.28052727428870033\n",
            "Epoch 1500 cost:  0.27292953029787803\n",
            "Epoch 1600 cost:  0.26595000237385663\n",
            "Epoch 1700 cost:  0.25949906745606627\n",
            "Epoch 1800 cost:  0.25350567377415384\n",
            "Epoch 1900 cost:  0.24791174739888927\n",
            "Final cost: 0.2427192020304707\n"
          ],
          "name": "stdout"
        }
      ]
    },
    {
      "metadata": {
        "id": "FbGQf8wBl8bL",
        "colab_type": "code",
        "colab": {
          "base_uri": "https://localhost:8080/",
          "height": 476
        },
        "outputId": "c578e21a-9db4-4350-d636-69f98c67b23c"
      },
      "cell_type": "code",
      "source": [
        "#testing\n",
        "from sklearn.metrics import classification_report, confusion_matrix\n",
        "\n",
        "\n",
        "Z1 = np.matmul(W1, X_test) + b1\n",
        "A1 = sigmoid(Z1)\n",
        "Z2 = np.matmul(W2, A1) + b2\n",
        "A2 = np.exp(Z2) / np.sum(np.exp(Z2), axis=0)\n",
        "\n",
        "predictions = np.argmax(A2, axis=0)\n",
        "labels = np.argmax(Y_test, axis=0)\n",
        "\n",
        "print(confusion_matrix(predictions, labels))\n",
        "print(classification_report(predictions, labels))"
      ],
      "execution_count": 14,
      "outputs": [
        {
          "output_type": "stream",
          "text": [
            "[[ 953    0   16    3    1   15    9    4    6    4]\n",
            " [   0 1107    8    2    3    3    2    5    3    6]\n",
            " [   3    4  920   20    7    4   13   19    6    1]\n",
            " [   3    2   29  911    2   31    1   10   32   11]\n",
            " [   1    1   11    0  906    8    8    8   10   43]\n",
            " [   9    2    5   38    2  791   16    3   20   20]\n",
            " [   6    2   10    3   15   16  901    0   10    1]\n",
            " [   3    3   13   11    4    5    4  950    7   15]\n",
            " [   2   13   18   17    7   13    4    4  869   16]\n",
            " [   0    1    2    5   35    6    0   25   11  892]]\n",
            "              precision    recall  f1-score   support\n",
            "\n",
            "           0       0.97      0.94      0.96      1011\n",
            "           1       0.98      0.97      0.97      1139\n",
            "           2       0.89      0.92      0.91       997\n",
            "           3       0.90      0.88      0.89      1032\n",
            "           4       0.92      0.91      0.92       996\n",
            "           5       0.89      0.87      0.88       906\n",
            "           6       0.94      0.93      0.94       964\n",
            "           7       0.92      0.94      0.93      1015\n",
            "           8       0.89      0.90      0.90       963\n",
            "           9       0.88      0.91      0.90       977\n",
            "\n",
            "   micro avg       0.92      0.92      0.92     10000\n",
            "   macro avg       0.92      0.92      0.92     10000\n",
            "weighted avg       0.92      0.92      0.92     10000\n",
            "\n"
          ],
          "name": "stdout"
        }
      ]
    }
  ]
}
