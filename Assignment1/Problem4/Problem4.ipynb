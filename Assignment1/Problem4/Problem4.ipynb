{
  "nbformat": 4,
  "nbformat_minor": 0,
  "metadata": {
    "colab": {
      "name": "Problem4.ipynb",
      "version": "0.3.2",
      "provenance": [],
      "include_colab_link": true
    },
    "kernelspec": {
      "name": "python3",
      "display_name": "Python 3"
    }
  },
  "cells": [
    {
      "cell_type": "markdown",
      "metadata": {
        "id": "view-in-github",
        "colab_type": "text"
      },
      "source": [
        "<a href=\"https://colab.research.google.com/github/MalihaUCF/Machine-Learning-Course-Assignments--Spring-2019/blob/master/Assignment1/Problem4/Problem4.ipynb\" target=\"_parent\"><img src=\"https://colab.research.google.com/assets/colab-badge.svg\" alt=\"Open In Colab\"/></a>"
      ]
    },
    {
      "metadata": {
        "id": "87TrxNrcBbcO",
        "colab_type": "code",
        "colab": {
          "base_uri": "https://localhost:8080/",
          "height": 34
        },
        "outputId": "ffcfe4d2-5c6c-4bcf-dc11-ed4d3a449da2"
      },
      "cell_type": "code",
      "source": [
        "#importing the requried libraries\n",
        "\n",
        "from keras.datasets import mnist\n",
        "import numpy as np\n",
        "from keras import models\n",
        "from keras import layers\n",
        "from keras.utils import to_categorical "
      ],
      "execution_count": 1,
      "outputs": [
        {
          "output_type": "stream",
          "text": [
            "Using TensorFlow backend.\n"
          ],
          "name": "stderr"
        }
      ]
    },
    {
      "metadata": {
        "id": "_-cem6u_BfMy",
        "colab_type": "code",
        "colab": {
          "base_uri": "https://localhost:8080/",
          "height": 68
        },
        "outputId": "864bb071-8b49-4025-c619-77797052d51e"
      },
      "cell_type": "code",
      "source": [
        "#loading the MNIST dataset\n",
        "\n",
        "(train_images,train_labels),(test_images,test_labels)=mnist.load_data()  \n",
        "\n",
        "print('Training Data Shape',train_images.shape)\n",
        "print('Test Data Shape',test_images.shape)\n",
        "print('The train and test labels look like this,' ,train_labels.shape,test_labels.shape)"
      ],
      "execution_count": 2,
      "outputs": [
        {
          "output_type": "stream",
          "text": [
            "Training Data Shape (60000, 28, 28)\n",
            "Test Data Shape (10000, 28, 28)\n",
            "The train and test labels look like this, (60000,) (10000,)\n"
          ],
          "name": "stdout"
        }
      ]
    },
    {
      "metadata": {
        "id": "vLiKVw6eBia6",
        "colab_type": "code",
        "colab": {
          "base_uri": "https://localhost:8080/",
          "height": 51
        },
        "outputId": "bac724ed-8654-4ea5-bd7d-ece8ad3e3a3d"
      },
      "cell_type": "code",
      "source": [
        "classes = np.unique(train_labels)\n",
        "number_of_Classes = len(classes)\n",
        "print('Total number of Classes : ', number_of_Classes)\n",
        "print('Classes are : ', classes)"
      ],
      "execution_count": 3,
      "outputs": [
        {
          "output_type": "stream",
          "text": [
            "Total number of Classes :  10\n",
            "Classes are :  [0 1 2 3 4 5 6 7 8 9]\n"
          ],
          "name": "stdout"
        }
      ]
    },
    {
      "metadata": {
        "id": "z6h7umNiBmbv",
        "colab_type": "code",
        "colab": {
          "base_uri": "https://localhost:8080/",
          "height": 275
        },
        "outputId": "73e71a1b-6feb-4da1-f8c1-d6a6eac690fb"
      },
      "cell_type": "code",
      "source": [
        "#Defining the Single layered Network\n",
        "\n",
        "model=models.Sequential()\n",
        "model.add(layers.Dense(28*28,activation='relu',input_shape=(28*28,)))\n",
        "model.add(layers.Dense(10,activation='softmax'))\n",
        "model.summary()"
      ],
      "execution_count": 4,
      "outputs": [
        {
          "output_type": "stream",
          "text": [
            "WARNING:tensorflow:From /usr/local/lib/python3.6/dist-packages/tensorflow/python/framework/op_def_library.py:263: colocate_with (from tensorflow.python.framework.ops) is deprecated and will be removed in a future version.\n",
            "Instructions for updating:\n",
            "Colocations handled automatically by placer.\n",
            "_________________________________________________________________\n",
            "Layer (type)                 Output Shape              Param #   \n",
            "=================================================================\n",
            "dense_1 (Dense)              (None, 784)               615440    \n",
            "_________________________________________________________________\n",
            "dense_2 (Dense)              (None, 10)                7850      \n",
            "=================================================================\n",
            "Total params: 623,290\n",
            "Trainable params: 623,290\n",
            "Non-trainable params: 0\n",
            "_________________________________________________________________\n"
          ],
          "name": "stdout"
        }
      ]
    },
    {
      "metadata": {
        "id": "rQa6wD_fBrQ8",
        "colab_type": "code",
        "colab": {}
      },
      "cell_type": "code",
      "source": [
        "# Preparing the Data for the network\n",
        "\n",
        "\n",
        "train_images = train_images.reshape(60000, 28*28) \n",
        "test_images = test_images.reshape(10000, 28*28) \n",
        "train_images = train_images.astype('float32') \n",
        "test_images = test_images.astype('float32') \n",
        "train_images /= 255 \n",
        "test_images /= 255\n",
        "\n",
        "\n",
        "train_labels = to_categorical(train_labels,10)\n",
        "test_labels = to_categorical(test_labels,10)"
      ],
      "execution_count": 0,
      "outputs": []
    },
    {
      "metadata": {
        "id": "Ep_sNl6iBtPB",
        "colab_type": "code",
        "colab": {
          "base_uri": "https://localhost:8080/",
          "height": 714
        },
        "outputId": "a399081a-6dcd-4b10-de39-7060ee978216"
      },
      "cell_type": "code",
      "source": [
        "#Compiling the network\n",
        "\n",
        "epochs=20\n",
        "batch_size=128\n",
        "model.compile(optimizer='SGD',loss='categorical_crossentropy',metrics=['accuracy'])\n",
        "history=model.fit(train_images, train_labels, epochs=epochs,batch_size=batch_size, validation_data=(test_images, test_labels))"
      ],
      "execution_count": 7,
      "outputs": [
        {
          "output_type": "stream",
          "text": [
            "Train on 60000 samples, validate on 10000 samples\n",
            "Epoch 1/20\n",
            "60000/60000 [==============================] - 6s 94us/step - loss: 0.2649 - acc: 0.9260 - val_loss: 0.2525 - val_acc: 0.9292\n",
            "Epoch 2/20\n",
            "60000/60000 [==============================] - 6s 95us/step - loss: 0.2571 - acc: 0.9285 - val_loss: 0.2464 - val_acc: 0.9306\n",
            "Epoch 3/20\n",
            "60000/60000 [==============================] - 6s 99us/step - loss: 0.2497 - acc: 0.9307 - val_loss: 0.2397 - val_acc: 0.9323\n",
            "Epoch 4/20\n",
            "60000/60000 [==============================] - 6s 100us/step - loss: 0.2428 - acc: 0.9329 - val_loss: 0.2337 - val_acc: 0.9339\n",
            "Epoch 5/20\n",
            "60000/60000 [==============================] - 6s 100us/step - loss: 0.2364 - acc: 0.9348 - val_loss: 0.2282 - val_acc: 0.9358\n",
            "Epoch 6/20\n",
            "60000/60000 [==============================] - 6s 100us/step - loss: 0.2303 - acc: 0.9364 - val_loss: 0.2233 - val_acc: 0.9375\n",
            "Epoch 7/20\n",
            "60000/60000 [==============================] - 6s 99us/step - loss: 0.2246 - acc: 0.9379 - val_loss: 0.2184 - val_acc: 0.9386\n",
            "Epoch 8/20\n",
            "60000/60000 [==============================] - 6s 95us/step - loss: 0.2192 - acc: 0.9392 - val_loss: 0.2136 - val_acc: 0.9388\n",
            "Epoch 9/20\n",
            "60000/60000 [==============================] - 6s 95us/step - loss: 0.2141 - acc: 0.9406 - val_loss: 0.2088 - val_acc: 0.9413\n",
            "Epoch 10/20\n",
            "60000/60000 [==============================] - 6s 100us/step - loss: 0.2092 - acc: 0.9422 - val_loss: 0.2045 - val_acc: 0.9425\n",
            "Epoch 11/20\n",
            "60000/60000 [==============================] - 6s 100us/step - loss: 0.2045 - acc: 0.9432 - val_loss: 0.2008 - val_acc: 0.9436\n",
            "Epoch 12/20\n",
            "60000/60000 [==============================] - 6s 94us/step - loss: 0.2000 - acc: 0.9448 - val_loss: 0.1971 - val_acc: 0.9444\n",
            "Epoch 13/20\n",
            "60000/60000 [==============================] - 6s 96us/step - loss: 0.1957 - acc: 0.9460 - val_loss: 0.1933 - val_acc: 0.9463\n",
            "Epoch 14/20\n",
            "60000/60000 [==============================] - 6s 96us/step - loss: 0.1916 - acc: 0.9470 - val_loss: 0.1896 - val_acc: 0.9468\n",
            "Epoch 15/20\n",
            "60000/60000 [==============================] - 6s 96us/step - loss: 0.1877 - acc: 0.9483 - val_loss: 0.1857 - val_acc: 0.9485\n",
            "Epoch 16/20\n",
            "60000/60000 [==============================] - 6s 100us/step - loss: 0.1839 - acc: 0.9493 - val_loss: 0.1830 - val_acc: 0.9495\n",
            "Epoch 17/20\n",
            "60000/60000 [==============================] - 6s 98us/step - loss: 0.1803 - acc: 0.9505 - val_loss: 0.1796 - val_acc: 0.9490\n",
            "Epoch 18/20\n",
            "60000/60000 [==============================] - 6s 95us/step - loss: 0.1768 - acc: 0.9510 - val_loss: 0.1765 - val_acc: 0.9501\n",
            "Epoch 19/20\n",
            "60000/60000 [==============================] - 6s 96us/step - loss: 0.1734 - acc: 0.9520 - val_loss: 0.1741 - val_acc: 0.9506\n",
            "Epoch 20/20\n",
            "60000/60000 [==============================] - 6s 96us/step - loss: 0.1702 - acc: 0.9528 - val_loss: 0.1707 - val_acc: 0.9517\n"
          ],
          "name": "stdout"
        }
      ]
    }
  ]
}